{
 "cells": [
  {
   "cell_type": "code",
   "execution_count": null,
   "id": "3a10161d",
   "metadata": {},
   "outputs": [],
   "source": []
  },
  {
   "cell_type": "code",
   "execution_count": null,
   "id": "0c9325b4",
   "metadata": {},
   "outputs": [],
   "source": []
  },
  {
   "cell_type": "code",
   "execution_count": 103,
   "id": "be46db2b",
   "metadata": {},
   "outputs": [],
   "source": [
    "import numpy as np\n",
    "import matplotlib.pyplot as plt\n",
    "import pandas as pd\n",
    "import scipy as sc\n"
   ]
  },
  {
   "cell_type": "markdown",
   "id": "bfe25536",
   "metadata": {},
   "source": [
    "## QUESTION 1"
   ]
  },
  {
   "cell_type": "markdown",
   "id": "d9f1bc1b",
   "metadata": {},
   "source": [
    "## 1. How could you create a one-dimensional NumPy array of the numbers from 10 to 100, counting by 10?"
   ]
  },
  {
   "cell_type": "code",
   "execution_count": 105,
   "id": "b49550ea",
   "metadata": {},
   "outputs": [
    {
     "data": {
      "text/plain": [
       "array([ 10.,  20.,  30.,  40.,  50.,  60.,  70.,  80.,  90., 100.])"
      ]
     },
     "execution_count": 105,
     "metadata": {},
     "output_type": "execute_result"
    }
   ],
   "source": [
    "x= np.linspace(10,100,10) # linspace gives the number within the given limt and the no of the equally divided numbers\n",
    "y=np.array(x)# keeping those numbers into the array\n",
    "y"
   ]
  },
  {
   "cell_type": "markdown",
   "id": "24fee429",
   "metadata": {},
   "source": [
    "## 2. What is the data type for 4?"
   ]
  },
  {
   "cell_type": "code",
   "execution_count": 106,
   "id": "44af5d7a",
   "metadata": {},
   "outputs": [
    {
     "name": "stdout",
     "output_type": "stream",
     "text": [
      "<class 'int'>\n"
     ]
    }
   ],
   "source": [
    "x=4 # \n",
    "print(type(x))# \"type\" gives the data type of the given data"
   ]
  },
  {
   "cell_type": "markdown",
   "id": "509a9916",
   "metadata": {},
   "source": [
    " ## Given this code:"
   ]
  },
  {
   "cell_type": "code",
   "execution_count": 109,
   "id": "de798af4",
   "metadata": {},
   "outputs": [
    {
     "name": "stdout",
     "output_type": "stream",
     "text": [
      "[[[0 1 2 3 4]\n",
      "  [0 1 2 3 4]\n",
      "  [0 1 2 3 4]\n",
      "  [0 1 2 3 4]]\n",
      "\n",
      " [[0 1 2 3 4]\n",
      "  [0 1 2 3 4]\n",
      "  [0 1 2 3 4]\n",
      "  [0 1 2 3 4]]\n",
      "\n",
      " [[0 1 2 3 4]\n",
      "  [0 1 2 3 4]\n",
      "  [0 1 2 3 4]\n",
      "  [0 1 2 3 4]]]\n",
      " The shape of the given array is : (3, 4, 5)\n",
      "the dimension the array is :  3\n"
     ]
    }
   ],
   "source": [
    "z_list = [z for z in range(0,5)]\n",
    "y_list = [z_list for y in range(0,4)]\n",
    "x_list = [y_list for x in range(0,3)]\n",
    "\n",
    "x_array = np.array(x_list)\n",
    "print(x_array)\n",
    "print(\" The shape of the given array is :\",x_array.shape)# x_array.shape gives the shape of the array\n",
    "print(\"the dimension the array is : \" ,x_array.ndim)# x_array.dim gives the dim of the array"
   ]
  },
  {
   "cell_type": "code",
   "execution_count": 110,
   "id": "cc6ba8ec",
   "metadata": {},
   "outputs": [
    {
     "name": "stdout",
     "output_type": "stream",
     "text": [
      "[30 10 50 74 86 65 78 46 82 65 60 76 41 18 72 13 65 61 13 43 97 44 69  4\n",
      " 60 15 27 69 53 58 32 69 23  9 36 61 98 95 52 26 61 51 92 28 56 58 91 61\n",
      " 67 50 59 67 83 88 47 97 89 77 93 23 17 98 92 39 55  3 44 25 95 28 13 92\n",
      " 74 30 26 34 76 86 49  5 24 65 35 66 50 29 22 25  5 42 34 38 45 94 60 50\n",
      " 56 90  9 18]\n",
      "MEAN =   52.21\n",
      "VARIENCE  =   727.4059\n",
      "MEDIAN  =   52.5\n",
      "STANDARD DEVIATION  =  26.970463473956098\n"
     ]
    }
   ],
   "source": [
    "x = np.random.randint(1,100,100)# generating 100 random integers with limita 1 and 100\n",
    "y= np.array(x)# placing the values into the array\n",
    "print(y)\n",
    "\n",
    "print(\"MEAN =  \",np.mean(y))# np.mean gives the mean of the given data\n",
    "print(\"VARIENCE  =  \",np.var(y))# np.var gives the varience of the given data\n",
    "print(\"MEDIAN  =  \",np.median(y))# np.median gives the median of the given data\n",
    "print(\"STANDARD DEVIATION  = \",np.std(y))# np.std gives the standard deviation  of the given data\n",
    "\n",
    "\n"
   ]
  },
  {
   "cell_type": "code",
   "execution_count": 115,
   "id": "d7f4804e",
   "metadata": {
    "scrolled": true
   },
   "outputs": [
    {
     "name": "stdout",
     "output_type": "stream",
     "text": [
      "[ 0.53571168 -0.14964512  0.51911721 -0.54577853 -0.20377869 -0.40585664\n",
      "  0.08423329  1.80153308  1.01851826 -2.42109173  0.25436481  0.08754202\n",
      " -0.78320377 -1.56830549  0.79975797  1.64295177 -0.42562286  1.31141807\n",
      " -0.96258546  0.53040406  0.65735907  0.64653078  0.22749199  0.0733085\n",
      "  1.47496367  0.20030802  0.31080854  0.78272136 -1.94992669  2.41217008\n",
      "  1.28713664  1.12482816 -0.10500543 -0.76676449 -0.56514271 -0.50467128\n",
      "  0.83508652  0.86699164  0.16318493 -0.4478813   2.08749077 -0.11935086\n",
      " -0.92240336  1.29447561 -0.56226244 -1.39834451  0.51848088  0.58744628\n",
      " -0.87623244  0.59933841  0.81650002 -0.73051915  0.62640214  0.00879298\n",
      " -0.08048105 -0.81158192 -1.02751029  0.54784282 -0.81029998  0.82773794\n",
      " -1.62362902  0.29063036  0.80881587  0.50385514 -0.49625813 -0.30147\n",
      " -0.8535954  -1.6849628  -1.18688257 -0.54990017 -1.17511804 -0.36814445\n",
      " -1.2405035  -1.75413658  0.3720831  -0.13133267  0.21070447  0.81476816\n",
      "  1.81118089 -0.77908224 -0.66071708 -1.33276053  0.32955574  0.53514618\n",
      "  0.60351626  0.01085964  0.16360881 -0.96718812 -1.78314962 -1.15290116\n",
      " -0.25368367  0.31749609  0.99794724 -0.35532323 -0.97613429 -0.75775248\n",
      "  1.29968354  0.03942707  0.42119842 -1.61653788]\n"
     ]
    },
    {
     "data": {
      "image/png": "[encoded data removed]",
      "text/plain": [
       "<Figure size 432x288 with 1 Axes>"
      ]
     },
     "metadata": {
      "needs_background": "light"
     },
     "output_type": "display_data"
    }
   ],
   "source": [
    "a = np.random.standard_normal(100)# generating 100 random standard normal deviation numbers\n",
    "print(a)\n",
    "\n",
    "plt.boxplot(a)# visualizing them in a box plot\n",
    "\n",
    "plt.show()"
   ]
  },
  {
   "cell_type": "code",
   "execution_count": 127,
   "id": "da69bb81",
   "metadata": {},
   "outputs": [
    {
     "data": {
      "image/png": "[encoded data removed]",
      "text/plain": [
       "<Figure size 432x288 with 1 Axes>"
      ]
     },
     "metadata": {
      "needs_background": "light"
     },
     "output_type": "display_data"
    }
   ],
   "source": [
    "c = plt.hist(a,bins=29,color=\"yellow\")# visualizing those data points in histogram\n"
   ]
  },
  {
   "cell_type": "code",
   "execution_count": null,
   "id": "6c32efc9",
   "metadata": {},
   "outputs": [],
   "source": []
  },
  {
   "cell_type": "code",
   "execution_count": null,
   "id": "96be7a5c",
   "metadata": {},
   "outputs": [],
   "source": []
  },
  {
   "cell_type": "code",
   "execution_count": 102,
   "id": "d474cbc1",
   "metadata": {},
   "outputs": [
    {
     "data": {
      "text/plain": [
       "[<matplotlib.lines.Line2D at 0x27f0580c550>]"
      ]
     },
     "execution_count": 102,
     "metadata": {},
     "output_type": "execute_result"
    },
    {
     "data": {
      "image/png": "[encoded data removed]",
      "text/plain": [
       "<Figure size 432x288 with 1 Axes>"
      ]
     },
     "metadata": {
      "needs_background": "light"
     },
     "output_type": "display_data"
    }
   ],
   "source": [
    "def func(x):\n",
    "    thet = np.random.randint(-1,10,10)\n",
    "    x = np.linspace(0,1,10)\n",
    "    y=[]\n",
    "    def prob(x):\n",
    "        v=  (1+thet)*x**thet\n",
    "        y.append[v]\n",
    "        return y\n",
    "    return y\n",
    "plt.plot(x,y)\n",
    "    \n",
    "    \n",
    "    "
   ]
  },
  {
   "cell_type": "code",
   "execution_count": 99,
   "id": "6197a06e",
   "metadata": {},
   "outputs": [],
   "source": [
    "np.random?"
   ]
  },
  {
   "cell_type": "markdown",
   "id": "df048b47",
   "metadata": {},
   "source": [
    "## 5. For certain programs, the following is the output. What inferences you can make?\n"
   ]
  },
  {
   "cell_type": "markdown",
   "id": "651a3c53",
   "metadata": {},
   "source": [
    " the given output is box and whisker plot\n",
    " depicting much information\n",
    " The x-axis represents the qualification of the man and the y-axis represents the salary of that person\n",
    " and there are 2 box plots at each qualification depicting yes or no i.e how many of them really getting the salary in that margin \n",
    " suppose at bachelor the orange box shows that their salary ranges from 10050 to 19000 \n",
    " and blue box shows that from 13500 to 17500\n",
    " and blue box says that the management is "
   ]
  },
  {
   "cell_type": "code",
   "execution_count": null,
   "id": "faaca722",
   "metadata": {},
   "outputs": [],
   "source": []
  },
  {
   "cell_type": "code",
   "execution_count": 129,
   "id": "fd39fce5",
   "metadata": {},
   "outputs": [],
   "source": [
    "b = pd.Series([\"adi\",\"kumar\",\"ani\",\"swaroop\",\"mathura\",\"srihari\",\"pyla\",\"saideva\",\"vamsee\",\"sathya\",\"hemanth\",\"varanasi\",\"ahar\",\"lalith\"])\n",
    "b\n",
    "for i in b:\n",
    "    i"
   ]
  },
  {
   "cell_type": "markdown",
   "id": "cc20bac9",
   "metadata": {},
   "source": [
    "## 6. Write a program to test the hypothesis 𝐻0: 𝜇 = 1.75 vs 𝐻1: 𝜇 ≠ 1.75 based on the following observations:1.83, 1.83, 1.73, 1.82, 1.83, 1.73, 1.99, 1.85, 1.68, 1.87"
   ]
  },
  {
   "cell_type": "code",
   "execution_count": 128,
   "id": "7016355f",
   "metadata": {},
   "outputs": [
    {
     "name": "stdout",
     "output_type": "stream",
     "text": [
      "mean= 1.816\n",
      "t test observation value =  2.3968766311585883\n"
     ]
    }
   ],
   "source": [
    "x= [ 1.83, 1.83, 1.73, 1.82, 1.83, 1.73, 1.99, 1.85, 1.68, 1.87]\n",
    "\n",
    "mean  = np.mean(x)\n",
    "print(\"mean=\",mean)\n",
    "h0 = 1.75\n",
    "standard_deviation = np.std(x,ddof=1)\n",
    "n = len(x)\n",
    "\n",
    "t_test = (mean-h0)/(standard_deviation/np.sqrt(n))\n",
    "print(\"t test observation value = \",t_test)\n"
   ]
  }
 ],
 "metadata": {
  "kernelspec": {
   "display_name": "Python 3 (ipykernel)",
   "language": "python",
   "name": "python3"
  },
  "language_info": {
   "codemirror_mode": {
    "name": "ipython",
    "version": 3
   },
   "file_extension": ".py",
   "mimetype": "text/x-python",
   "name": "python",
   "nbconvert_exporter": "python",
   "pygments_lexer": "ipython3",
   "version": "3.9.13"
  }
 },
 "nbformat": 4,
 "nbformat_minor": 5
}
