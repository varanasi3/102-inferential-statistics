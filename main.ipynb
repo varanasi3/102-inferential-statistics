{
 "cells": [
  {
   "cell_type": "markdown",
   "metadata": {},
   "source": [
    "## Data Analysis with Pandas\n",
    "\n",
    "- Pandas is a widely-used, open-source Python library for data manipulations and analysis. \n",
    "- Pandas is built on top of NumPy, and provides an efficient implementation of a `DataFrame`.\n",
    "- The `DataFrame` is multidimensional array with attached row and column labels. \n",
    "- The `DataFrame` is a heterogeneous data types (floats, integers, strings, dates, etc) that may be structured a hierarchy and indexed.\n",
    "- It provides a large number (and powerful) functions for cleaning, transforming and aggregating data efficiently.\n",
    "- The documenation of pandas can be found here: https://pandas.pydata.org/\n",
    "- Pandas overcome the downsides of NumPy like attaching labels to data, working with missing data, elementwise broadcasting.\n",
    "- The key data structures in Pandas are `Series` and `DataFrame`, representing a one-dimensional sequence of values and a data table, respectively.\n",
    "- In this tutorial, we discuss the following concepts:\n",
    "-  Pandas Objects: `Series`, `DataFrame`, and `Index`\n",
    "-  Reading and Writing Dataframes\n",
    "-  Advanced Indexing\n",
    "-  Data Cleaning - Missing data points, Binding, Outliers\n",
    "-  Data Grouping and Aggregation\n",
    "-  Combining Datasets\n",
    "-  Introduction to Time Series Data"
   ]
  },
  {
   "cell_type": "markdown",
   "metadata": {},
   "source": [
    "### Series\n",
    "- A `Series` creats a one-dimensional array similar to NumPy array.\n",
    "- Each element in a pandas `Series` is associated with an index.\n",
    "- Explicit indexing of the entries can be achieved by passing a sequence as the index argument or by creating the Series from a dictionary.\n",
    "- Series can be sorted, either by their index or their values, using Series.sort_index and Series.sort_values"
   ]
  },
  {
   "cell_type": "code",
   "execution_count": 1,
   "metadata": {},
   "outputs": [],
   "source": [
    "import pandas as pd"
   ]
  },
  {
   "cell_type": "code",
   "execution_count": 2,
   "metadata": {},
   "outputs": [
    {
     "data": {
      "text/plain": [
       "0    6300\n",
       "1    6650\n",
       "2    6275\n",
       "3    6400\n",
       "dtype: int64"
      ]
     },
     "execution_count": 2,
     "metadata": {},
     "output_type": "execute_result"
    }
   ],
   "source": [
    "#create a pandas series\n",
    "river_length = pd.Series([6300,6650,6275,6400])\n",
    "river_length"
   ]
  },
  {
   "cell_type": "code",
   "execution_count": 3,
   "metadata": {},
   "outputs": [
    {
     "data": {
      "text/plain": [
       "0    6300.0\n",
       "1    6650.0\n",
       "2    6275.0\n",
       "3    6400.0\n",
       "Name: River Length /km, dtype: float64"
      ]
     },
     "execution_count": 3,
     "metadata": {},
     "output_type": "execute_result"
    }
   ],
   "source": [
    "#column labeling\n",
    "river_length = pd.Series([6300,6650,6275,6400],name='River Length /km', dtype=float)\n",
    "river_length"
   ]
  },
  {
   "cell_type": "code",
   "execution_count": 4,
   "metadata": {},
   "outputs": [
    {
     "data": {
      "text/plain": [
       "6300.0"
      ]
     },
     "execution_count": 4,
     "metadata": {},
     "output_type": "execute_result"
    }
   ],
   "source": [
    "#accesing data from the series\n",
    "river_length[0]"
   ]
  },
  {
   "cell_type": "code",
   "execution_count": 5,
   "metadata": {},
   "outputs": [
    {
     "data": {
      "text/plain": [
       "RangeIndex(start=0, stop=4, step=1)"
      ]
     },
     "execution_count": 5,
     "metadata": {},
     "output_type": "execute_result"
    }
   ],
   "source": [
    "#index range\n",
    "river_length.index"
   ]
  },
  {
   "cell_type": "code",
   "execution_count": 6,
   "metadata": {},
   "outputs": [
    {
     "data": {
      "text/plain": [
       "Yangtze        6300\n",
       "Nile           6650\n",
       "Mississippi    6275\n",
       "Amazon         6400\n",
       "Name: River Length /km, dtype: int64"
      ]
     },
     "execution_count": 6,
     "metadata": {},
     "output_type": "execute_result"
    }
   ],
   "source": [
    "#customize the indexing for series\n",
    "river_length = pd.Series(data =[6300, 6650, 6275, 6400], \n",
    "                         index = ['Yangtze','Nile','Mississippi','Amazon'], name = 'River Length /km')\n",
    "river_length"
   ]
  },
  {
   "cell_type": "code",
   "execution_count": 7,
   "metadata": {},
   "outputs": [
    {
     "data": {
      "text/plain": [
       "6650"
      ]
     },
     "execution_count": 7,
     "metadata": {},
     "output_type": "execute_result"
    }
   ],
   "source": [
    "# accesing the data with customized index\n",
    "river_length['Nile']"
   ]
  },
  {
   "cell_type": "code",
   "execution_count": 8,
   "metadata": {},
   "outputs": [
    {
     "data": {
      "text/plain": [
       "Yangtze        6300\n",
       "Nile           6650\n",
       "Mississippi    6275\n",
       "Amazon         6400\n",
       "Name: Length /km, dtype: int64"
      ]
     },
     "execution_count": 8,
     "metadata": {},
     "output_type": "execute_result"
    }
   ],
   "source": [
    "#creating a series using dictionary\n",
    "river_length = pd.Series(data = {'Yangtze':6300,'Nile':6650, 'Mississippi':6275, 'Amazon': 6400}, name = 'Length /km')\n",
    "river_length"
   ]
  },
  {
   "cell_type": "code",
   "execution_count": 9,
   "metadata": {},
   "outputs": [
    {
     "data": {
      "text/plain": [
       "6650"
      ]
     },
     "execution_count": 9,
     "metadata": {},
     "output_type": "execute_result"
    }
   ],
   "source": [
    "river_length['Nile']"
   ]
  },
  {
   "cell_type": "code",
   "execution_count": 10,
   "metadata": {},
   "outputs": [
    {
     "data": {
      "text/plain": [
       "6650"
      ]
     },
     "execution_count": 10,
     "metadata": {},
     "output_type": "execute_result"
    }
   ],
   "source": [
    "#still default index work\n",
    "river_length[1]"
   ]
  },
  {
   "cell_type": "code",
   "execution_count": 44,
   "metadata": {},
   "outputs": [
    {
     "data": {
      "text/plain": [
       "Nile      4132.11715\n",
       "Amazon    3976.77440\n",
       "Name: Length /miles, dtype: float64"
      ]
     },
     "execution_count": 44,
     "metadata": {},
     "output_type": "execute_result"
    }
   ],
   "source": [
    "river_length[['Nile','Amazon']]"
   ]
  },
  {
   "cell_type": "code",
   "execution_count": 47,
   "metadata": {},
   "outputs": [
    {
     "data": {
      "text/plain": [
       "Amazon    3976.77440\n",
       "Nile      4132.11715\n",
       "Name: Length /miles, dtype: float64"
      ]
     },
     "execution_count": 47,
     "metadata": {},
     "output_type": "execute_result"
    }
   ],
   "source": [
    "river_length[1::-1]"
   ]
  },
  {
   "cell_type": "code",
   "execution_count": 50,
   "metadata": {},
   "outputs": [
    {
     "data": {
      "text/plain": [
       "Nile      4132.11715\n",
       "Amazon    3976.77440\n",
       "Name: Length /miles, dtype: float64"
      ]
     },
     "execution_count": 50,
     "metadata": {},
     "output_type": "execute_result"
    }
   ],
   "source": [
    "river_length['Nile':'Amazon']\n",
    "             "
   ]
  },
  {
   "cell_type": "code",
   "execution_count": 14,
   "metadata": {},
   "outputs": [
    {
     "data": {
      "text/plain": [
       "6275"
      ]
     },
     "execution_count": 14,
     "metadata": {},
     "output_type": "execute_result"
    }
   ],
   "source": [
    "# Index work as an attribute\n",
    "river_length.Mississippi"
   ]
  },
  {
   "cell_type": "code",
   "execution_count": 15,
   "metadata": {},
   "outputs": [
    {
     "data": {
      "text/plain": [
       "Yangtze        3914.637300\n",
       "Nile           4132.117150\n",
       "Mississippi    3899.103025\n",
       "Amazon         3976.774400\n",
       "Name: Length /miles, dtype: float64"
      ]
     },
     "execution_count": 15,
     "metadata": {},
     "output_type": "execute_result"
    }
   ],
   "source": [
    "# numerical operations on Series data\n",
    "KM_to_Miles = 0.621371\n",
    "river_length *= KM_to_Miles\n",
    "river_length.name = 'Length /miles'\n",
    "river_length"
   ]
  },
  {
   "cell_type": "code",
   "execution_count": 55,
   "metadata": {},
   "outputs": [
    {
     "data": {
      "text/plain": [
       "Nile            True\n",
       "Amazon          True\n",
       "Yangtze         True\n",
       "Mississippi    False\n",
       "Name: Length /miles, dtype: bool"
      ]
     },
     "execution_count": 55,
     "metadata": {},
     "output_type": "execute_result"
    }
   ],
   "source": [
    "# you can also change the data type \n",
    "river_length > 3900 # logical operator"
   ]
  },
  {
   "cell_type": "code",
   "execution_count": 17,
   "metadata": {},
   "outputs": [
    {
     "data": {
      "text/plain": [
       "Yangtze        3914.637300\n",
       "Mississippi    3899.103025\n",
       "Amazon         3976.774400\n",
       "Name: Length /miles, dtype: float64"
      ]
     },
     "execution_count": 17,
     "metadata": {},
     "output_type": "execute_result"
    }
   ],
   "source": [
    "river_length[river_length<= 4000]"
   ]
  },
  {
   "cell_type": "code",
   "execution_count": 56,
   "metadata": {},
   "outputs": [
    {
     "data": {
      "text/plain": [
       "True"
      ]
     },
     "execution_count": 56,
     "metadata": {},
     "output_type": "execute_result"
    }
   ],
   "source": [
    "# Tests for membership for a series examine the index, not the values\n",
    "'Nile' in river_length"
   ]
  },
  {
   "cell_type": "code",
   "execution_count": 19,
   "metadata": {},
   "outputs": [
    {
     "data": {
      "text/plain": [
       "Amazon         3976.774400\n",
       "Mississippi    3899.103025\n",
       "Nile           4132.117150\n",
       "Yangtze        3914.637300\n",
       "Name: Length /miles, dtype: float64"
      ]
     },
     "execution_count": 19,
     "metadata": {},
     "output_type": "execute_result"
    }
   ],
   "source": [
    "# Series can be sorted, either bu their index or their values, using Series.sort_index and Series.sort_values\n",
    "river_length.sort_index()"
   ]
  },
  {
   "cell_type": "code",
   "execution_count": 58,
   "metadata": {},
   "outputs": [
    {
     "data": {
      "text/plain": [
       "Nile           4132.117150\n",
       "Amazon         3976.774400\n",
       "Yangtze        3914.637300\n",
       "Mississippi    3899.103025\n",
       "Name: Length /miles, dtype: float64"
      ]
     },
     "execution_count": 58,
     "metadata": {},
     "output_type": "execute_result"
    }
   ],
   "source": [
    "river_length.sort_values(ascending=False)#, inplace=True\n",
    "river_length"
   ]
  },
  {
   "cell_type": "code",
   "execution_count": 59,
   "metadata": {},
   "outputs": [],
   "source": [
    "# Two pd.Series can be combined\n",
    "masses = pd.Series({'Ganymede':1.482e23,\n",
    "                    'Callisto': 1.076e23,\n",
    "                    'Io': 8.932e22,\n",
    "                    'Europa':4.800e22,\n",
    "                    'Moon':7.342e22,\n",
    "                    'Earth':5.972e24}, name = 'mass /kg')\n",
    "\n",
    "\n",
    "radii = pd.Series({'Ganymede':2.634e6,\n",
    "                   'Io':1.822e6, \n",
    "                   'Earth': 6.371e6}, name = 'radius /m')\n",
    "\n"
   ]
  },
  {
   "cell_type": "code",
   "execution_count": 60,
   "metadata": {},
   "outputs": [
    {
     "data": {
      "text/plain": [
       "Body\n",
       "Callisto         NaN\n",
       "Earth       9.819973\n",
       "Europa           NaN\n",
       "Ganymede    1.425681\n",
       "Io          1.795799\n",
       "Moon             NaN\n",
       "Name: Surface gravity /m.s-2, dtype: float64"
      ]
     },
     "execution_count": 60,
     "metadata": {},
     "output_type": "execute_result"
    }
   ],
   "source": [
    "from scipy.constants import G#gravity constant\n",
    "surface_g = G* masses / radii**2\n",
    "surface_g.name = 'Surface gravity /m.s-2'\n",
    "surface_g.index.name = 'Body'\n",
    "surface_g"
   ]
  },
  {
   "cell_type": "code",
   "execution_count": 61,
   "metadata": {},
   "outputs": [
    {
     "data": {
      "text/plain": [
       "Body\n",
       "Callisto     True\n",
       "Earth       False\n",
       "Europa       True\n",
       "Ganymede    False\n",
       "Io          False\n",
       "Moon         True\n",
       "Name: Surface gravity /m.s-2, dtype: bool"
      ]
     },
     "execution_count": 61,
     "metadata": {},
     "output_type": "execute_result"
    }
   ],
   "source": [
    "surface_g.isnull()"
   ]
  },
  {
   "cell_type": "code",
   "execution_count": 24,
   "metadata": {},
   "outputs": [
    {
     "data": {
      "text/plain": [
       "Body\n",
       "Earth       9.819973\n",
       "Ganymede    1.425681\n",
       "Io          1.795799\n",
       "Name: Surface gravity /m.s-2, dtype: float64"
      ]
     },
     "execution_count": 24,
     "metadata": {},
     "output_type": "execute_result"
    }
   ],
   "source": [
    "# return without NaN\n",
    "surface_g.dropna()"
   ]
  },
  {
   "cell_type": "code",
   "execution_count": 25,
   "metadata": {},
   "outputs": [
    {
     "data": {
      "text/plain": [
       "array([       nan, 9.81997343,        nan, 1.42568108, 1.79579887,\n",
       "              nan])"
      ]
     },
     "execution_count": 25,
     "metadata": {},
     "output_type": "execute_result"
    }
   ],
   "source": [
    "surface_g.values"
   ]
  },
  {
   "cell_type": "code",
   "execution_count": 26,
   "metadata": {},
   "outputs": [
    {
     "data": {
      "text/plain": [
       "a    NaN\n",
       "b    2.0\n",
       "c   -5.0\n",
       "d    6.5\n",
       "dtype: float64"
      ]
     },
     "execution_count": 26,
     "metadata": {},
     "output_type": "execute_result"
    }
   ],
   "source": [
    "# NaN entries can be replaces in a pandas Series with a specified value using the fillna method. \n",
    "ser1 = pd.Series({'b':2,'c':-5,'d':6.5}, index = list('abcd'))\n",
    "ser1"
   ]
  },
  {
   "cell_type": "code",
   "execution_count": 27,
   "metadata": {},
   "outputs": [
    {
     "data": {
      "text/plain": [
       "a    0.0\n",
       "b    2.0\n",
       "c   -5.0\n",
       "d    6.5\n",
       "dtype: float64"
      ]
     },
     "execution_count": 27,
     "metadata": {},
     "output_type": "execute_result"
    }
   ],
   "source": [
    "ser1.fillna(0,inplace=True)\n",
    "ser1"
   ]
  },
  {
   "cell_type": "code",
   "execution_count": 28,
   "metadata": {},
   "outputs": [
    {
     "data": {
      "text/plain": [
       "a   -3.4\n",
       "b    0.0\n",
       "c    0.0\n",
       "d    1.0\n",
       "dtype: float64"
      ]
     },
     "execution_count": 28,
     "metadata": {},
     "output_type": "execute_result"
    }
   ],
   "source": [
    "#renaming index\n",
    "ser2 = pd.Series([-3.4,0,0,1], index=ser1.index)\n",
    "ser2"
   ]
  },
  {
   "cell_type": "code",
   "execution_count": 29,
   "metadata": {},
   "outputs": [
    {
     "data": {
      "text/plain": [
       "a   -0.0\n",
       "b    inf\n",
       "c   -inf\n",
       "d    6.5\n",
       "dtype: float64"
      ]
     },
     "execution_count": 29,
     "metadata": {},
     "output_type": "execute_result"
    }
   ],
   "source": [
    "ser3 = ser1/ser2\n",
    "ser3"
   ]
  },
  {
   "cell_type": "code",
   "execution_count": 30,
   "metadata": {},
   "outputs": [],
   "source": [
    "import numpy as np\n"
   ]
  },
  {
   "cell_type": "code",
   "execution_count": 31,
   "metadata": {},
   "outputs": [
    {
     "data": {
      "text/plain": [
       "a   -0.0\n",
       "b    0.0\n",
       "c    0.0\n",
       "d    6.5\n",
       "dtype: float64"
      ]
     },
     "execution_count": 31,
     "metadata": {},
     "output_type": "execute_result"
    }
   ],
   "source": [
    "ser3.replace([np.inf,-np.inf],0, inplace=True)\n",
    "ser3"
   ]
  },
  {
   "cell_type": "markdown",
   "metadata": {},
   "source": [
    "## DataFrame\n",
    "\n",
    "### Creating a DataFrame \n",
    "- A `DataFrame` is a two-dimensional table of data that can be thought of as an ordered set of Series columns, which all have the same index. \n",
    "- To create a simple `DataFrame` from a dictionary, assign value sequences to column name keys. \n",
    "- The `DataFrame` can be seen as generalization of NumPy array or as specilization of dictionary."
   ]
  },
  {
   "cell_type": "code",
   "execution_count": 64,
   "metadata": {},
   "outputs": [
    {
     "data": {
      "text/html": [
       "<div>\n",
       "<style scoped>\n",
       "    .dataframe tbody tr th:only-of-type {\n",
       "        vertical-align: middle;\n",
       "    }\n",
       "\n",
       "    .dataframe tbody tr th {\n",
       "        vertical-align: top;\n",
       "    }\n",
       "\n",
       "    .dataframe thead th {\n",
       "        text-align: right;\n",
       "    }\n",
       "</style>\n",
       "<table border=\"1\" class=\"dataframe\">\n",
       "  <thead>\n",
       "    <tr style=\"text-align: right;\">\n",
       "      <th></th>\n",
       "      <th>mass</th>\n",
       "      <th>radius</th>\n",
       "      <th>parent</th>\n",
       "    </tr>\n",
       "  </thead>\n",
       "  <tbody>\n",
       "    <tr>\n",
       "      <th>Ganymede</th>\n",
       "      <td>1.482000e+23</td>\n",
       "      <td>2634000.0</td>\n",
       "      <td>Jupiter</td>\n",
       "    </tr>\n",
       "    <tr>\n",
       "      <th>Callisto</th>\n",
       "      <td>1.076000e+23</td>\n",
       "      <td>NaN</td>\n",
       "      <td>Jupiter</td>\n",
       "    </tr>\n",
       "    <tr>\n",
       "      <th>Io</th>\n",
       "      <td>8.932000e+22</td>\n",
       "      <td>1822000.0</td>\n",
       "      <td>Jupiter</td>\n",
       "    </tr>\n",
       "    <tr>\n",
       "      <th>Europa</th>\n",
       "      <td>4.800000e+22</td>\n",
       "      <td>NaN</td>\n",
       "      <td>Jupiter</td>\n",
       "    </tr>\n",
       "    <tr>\n",
       "      <th>Moon</th>\n",
       "      <td>7.342000e+22</td>\n",
       "      <td>1737000.0</td>\n",
       "      <td>Earth</td>\n",
       "    </tr>\n",
       "  </tbody>\n",
       "</table>\n",
       "</div>"
      ],
      "text/plain": [
       "                  mass     radius   parent\n",
       "Ganymede  1.482000e+23  2634000.0  Jupiter\n",
       "Callisto  1.076000e+23        NaN  Jupiter\n",
       "Io        8.932000e+22  1822000.0  Jupiter\n",
       "Europa    4.800000e+22        NaN  Jupiter\n",
       "Moon      7.342000e+22  1737000.0    Earth"
      ]
     },
     "execution_count": 64,
     "metadata": {},
     "output_type": "execute_result"
    }
   ],
   "source": [
    "#dictionary to DataFrame\n",
    "data = {'mass':[1.482e23, 1.076e23, 8.932e22, 4.800e22, 7.342e22],\n",
    "        'radius': [2.634e6 , None , 1.822e6 , None , 1.737e6],\n",
    "        'parent': ['Jupiter', 'Jupiter', 'Jupiter', 'Jupiter', 'Earth']\n",
    "        }\n",
    "\n",
    "index = ['Ganymede','Callisto','Io','Europa','Moon']\n",
    "df =pd.DataFrame(data, index=index)\n",
    "df"
   ]
  },
  {
   "cell_type": "code",
   "execution_count": null,
   "metadata": {},
   "outputs": [],
   "source": []
  },
  {
   "cell_type": "code",
   "execution_count": 66,
   "metadata": {},
   "outputs": [
    {
     "data": {
      "text/html": [
       "<div>\n",
       "<style scoped>\n",
       "    .dataframe tbody tr th:only-of-type {\n",
       "        vertical-align: middle;\n",
       "    }\n",
       "\n",
       "    .dataframe tbody tr th {\n",
       "        vertical-align: top;\n",
       "    }\n",
       "\n",
       "    .dataframe thead th {\n",
       "        text-align: right;\n",
       "    }\n",
       "</style>\n",
       "<table border=\"1\" class=\"dataframe\">\n",
       "  <thead>\n",
       "    <tr style=\"text-align: right;\">\n",
       "      <th></th>\n",
       "      <th>mass</th>\n",
       "      <th>radius</th>\n",
       "      <th>parent_planet</th>\n",
       "    </tr>\n",
       "  </thead>\n",
       "  <tbody>\n",
       "    <tr>\n",
       "      <th>Ganymede</th>\n",
       "      <td>1.482000e+23</td>\n",
       "      <td>2634000.0</td>\n",
       "      <td>Jupiter</td>\n",
       "    </tr>\n",
       "    <tr>\n",
       "      <th>Callisto</th>\n",
       "      <td>1.076000e+23</td>\n",
       "      <td>NaN</td>\n",
       "      <td>Jupiter</td>\n",
       "    </tr>\n",
       "    <tr>\n",
       "      <th>Io</th>\n",
       "      <td>8.932000e+22</td>\n",
       "      <td>1822000.0</td>\n",
       "      <td>Jupiter</td>\n",
       "    </tr>\n",
       "    <tr>\n",
       "      <th>Europa</th>\n",
       "      <td>4.800000e+22</td>\n",
       "      <td>NaN</td>\n",
       "      <td>Jupiter</td>\n",
       "    </tr>\n",
       "    <tr>\n",
       "      <th>Moon</th>\n",
       "      <td>7.342000e+22</td>\n",
       "      <td>1737000.0</td>\n",
       "      <td>Earth</td>\n",
       "    </tr>\n",
       "  </tbody>\n",
       "</table>\n",
       "</div>"
      ],
      "text/plain": [
       "                  mass     radius parent_planet\n",
       "Ganymede  1.482000e+23  2634000.0       Jupiter\n",
       "Callisto  1.076000e+23        NaN       Jupiter\n",
       "Io        8.932000e+22  1822000.0       Jupiter\n",
       "Europa    4.800000e+22        NaN       Jupiter\n",
       "Moon      7.342000e+22  1737000.0         Earth"
      ]
     },
     "execution_count": 66,
     "metadata": {},
     "output_type": "execute_result"
    }
   ],
   "source": [
    "#df.rename({'parent':'planet'})\n",
    "df.rename({'parent':'parent_planet'}, axis='columns', inplace=True) \n",
    "#df.rename({'Moon':'The Moon'}) # change a row index label\n",
    "df"
   ]
  },
  {
   "cell_type": "code",
   "execution_count": 68,
   "metadata": {},
   "outputs": [
    {
     "data": {
      "text/html": [
       "<div>\n",
       "<style scoped>\n",
       "    .dataframe tbody tr th:only-of-type {\n",
       "        vertical-align: middle;\n",
       "    }\n",
       "\n",
       "    .dataframe tbody tr th {\n",
       "        vertical-align: top;\n",
       "    }\n",
       "\n",
       "    .dataframe thead th {\n",
       "        text-align: right;\n",
       "    }\n",
       "</style>\n",
       "<table border=\"1\" class=\"dataframe\">\n",
       "  <thead>\n",
       "    <tr style=\"text-align: right;\">\n",
       "      <th></th>\n",
       "      <th>MASS</th>\n",
       "      <th>radius</th>\n",
       "      <th>parent_planet</th>\n",
       "    </tr>\n",
       "  </thead>\n",
       "  <tbody>\n",
       "    <tr>\n",
       "      <th>Ganymede</th>\n",
       "      <td>1.482000e+23</td>\n",
       "      <td>2634000.0</td>\n",
       "      <td>Jupiter</td>\n",
       "    </tr>\n",
       "    <tr>\n",
       "      <th>Callisto</th>\n",
       "      <td>1.076000e+23</td>\n",
       "      <td>NaN</td>\n",
       "      <td>Jupiter</td>\n",
       "    </tr>\n",
       "    <tr>\n",
       "      <th>Io</th>\n",
       "      <td>8.932000e+22</td>\n",
       "      <td>1822000.0</td>\n",
       "      <td>Jupiter</td>\n",
       "    </tr>\n",
       "    <tr>\n",
       "      <th>Europa</th>\n",
       "      <td>4.800000e+22</td>\n",
       "      <td>NaN</td>\n",
       "      <td>Jupiter</td>\n",
       "    </tr>\n",
       "    <tr>\n",
       "      <th>The Moon</th>\n",
       "      <td>7.342000e+22</td>\n",
       "      <td>1737000.0</td>\n",
       "      <td>Earth</td>\n",
       "    </tr>\n",
       "  </tbody>\n",
       "</table>\n",
       "</div>"
      ],
      "text/plain": [
       "                  MASS     radius parent_planet\n",
       "Ganymede  1.482000e+23  2634000.0       Jupiter\n",
       "Callisto  1.076000e+23        NaN       Jupiter\n",
       "Io        8.932000e+22  1822000.0       Jupiter\n",
       "Europa    4.800000e+22        NaN       Jupiter\n",
       "The Moon  7.342000e+22  1737000.0         Earth"
      ]
     },
     "execution_count": 68,
     "metadata": {},
     "output_type": "execute_result"
    }
   ],
   "source": [
    "#rename the index\n",
    "df.rename({'Moon':'The Moon'},axis='rows',inplace=True)\n",
    "df.rename({'mass':'MASS'},axis='columns',inplace=True)\n",
    "df"
   ]
  },
  {
   "cell_type": "markdown",
   "metadata": {},
   "source": [
    "This last statement has returned a new DataFrame but not altered the original one, df."
   ]
  },
  {
   "cell_type": "code",
   "execution_count": 35,
   "metadata": {},
   "outputs": [
    {
     "data": {
      "text/plain": [
       "Ganymede    1.482000e+23\n",
       "Callisto    1.076000e+23\n",
       "Io          8.932000e+22\n",
       "Europa      4.800000e+22\n",
       "Moon        7.342000e+22\n",
       "Name: MASS, dtype: float64"
      ]
     },
     "execution_count": 35,
     "metadata": {},
     "output_type": "execute_result"
    }
   ],
   "source": [
    "# Accessing rows, columns and cells\n",
    "df['MASS']  # df.mass\n",
    "#df[:2:]"
   ]
  },
  {
   "cell_type": "code",
   "execution_count": 36,
   "metadata": {},
   "outputs": [
    {
     "data": {
      "text/plain": [
       "8.932e+22"
      ]
     },
     "execution_count": 36,
     "metadata": {},
     "output_type": "execute_result"
    }
   ],
   "source": [
    "df.MASS[2]"
   ]
  },
  {
   "cell_type": "code",
   "execution_count": 37,
   "metadata": {},
   "outputs": [
    {
     "data": {
      "text/plain": [
       "7.342e+22"
      ]
     },
     "execution_count": 37,
     "metadata": {},
     "output_type": "execute_result"
    }
   ],
   "source": [
    "df.MASS['Moon']"
   ]
  },
  {
   "cell_type": "code",
   "execution_count": 38,
   "metadata": {},
   "outputs": [
    {
     "data": {
      "text/html": [
       "<div>\n",
       "<style scoped>\n",
       "    .dataframe tbody tr th:only-of-type {\n",
       "        vertical-align: middle;\n",
       "    }\n",
       "\n",
       "    .dataframe tbody tr th {\n",
       "        vertical-align: top;\n",
       "    }\n",
       "\n",
       "    .dataframe thead th {\n",
       "        text-align: right;\n",
       "    }\n",
       "</style>\n",
       "<table border=\"1\" class=\"dataframe\">\n",
       "  <thead>\n",
       "    <tr style=\"text-align: right;\">\n",
       "      <th></th>\n",
       "      <th>a</th>\n",
       "      <th>b</th>\n",
       "    </tr>\n",
       "  </thead>\n",
       "  <tbody>\n",
       "    <tr>\n",
       "      <th>0</th>\n",
       "      <td>0</td>\n",
       "      <td>0</td>\n",
       "    </tr>\n",
       "    <tr>\n",
       "      <th>1</th>\n",
       "      <td>1</td>\n",
       "      <td>2</td>\n",
       "    </tr>\n",
       "    <tr>\n",
       "      <th>2</th>\n",
       "      <td>2</td>\n",
       "      <td>4</td>\n",
       "    </tr>\n",
       "  </tbody>\n",
       "</table>\n",
       "</div>"
      ],
      "text/plain": [
       "   a  b\n",
       "0  0  0\n",
       "1  1  2\n",
       "2  2  4"
      ]
     },
     "execution_count": 38,
     "metadata": {},
     "output_type": "execute_result"
    }
   ],
   "source": [
    "#create DataFrame from a list of dicts\n",
    "data = [{'a':i,'b':2*i} for i in range(3)]\n",
    "pd.DataFrame(data)"
   ]
  },
  {
   "cell_type": "code",
   "execution_count": 71,
   "metadata": {},
   "outputs": [
    {
     "data": {
      "text/html": [
       "<div>\n",
       "<style scoped>\n",
       "    .dataframe tbody tr th:only-of-type {\n",
       "        vertical-align: middle;\n",
       "    }\n",
       "\n",
       "    .dataframe tbody tr th {\n",
       "        vertical-align: top;\n",
       "    }\n",
       "\n",
       "    .dataframe thead th {\n",
       "        text-align: right;\n",
       "    }\n",
       "</style>\n",
       "<table border=\"1\" class=\"dataframe\">\n",
       "  <thead>\n",
       "    <tr style=\"text-align: right;\">\n",
       "      <th></th>\n",
       "      <th>rand1</th>\n",
       "      <th>rand2</th>\n",
       "    </tr>\n",
       "  </thead>\n",
       "  <tbody>\n",
       "    <tr>\n",
       "      <th>a</th>\n",
       "      <td>0.059909</td>\n",
       "      <td>0.550950</td>\n",
       "    </tr>\n",
       "    <tr>\n",
       "      <th>b</th>\n",
       "      <td>0.337497</td>\n",
       "      <td>0.870966</td>\n",
       "    </tr>\n",
       "    <tr>\n",
       "      <th>c</th>\n",
       "      <td>0.996363</td>\n",
       "      <td>0.778230</td>\n",
       "    </tr>\n",
       "  </tbody>\n",
       "</table>\n",
       "</div>"
      ],
      "text/plain": [
       "      rand1     rand2\n",
       "a  0.059909  0.550950\n",
       "b  0.337497  0.870966\n",
       "c  0.996363  0.778230"
      ]
     },
     "execution_count": 71,
     "metadata": {},
     "output_type": "execute_result"
    }
   ],
   "source": [
    "#from a 2D NumPy array\n",
    "import numpy as np \n",
    "\n",
    "data = np.random.rand(3,2) #generate random 3x2 array\n",
    "pd.DataFrame(data,columns=[\"rand1\",\"rand2\"],index=[\"a\",\"b\",\"c\"])"
   ]
  },
  {
   "cell_type": "markdown",
   "metadata": {},
   "source": [
    "# More about Index Object \n",
    "\n",
    "- Note that there is an explicit `index` for both pandas objects: `Series` and `DataFrame` \n",
    "- This `Index` object is an interesting structure itself, and it can be thought of either as an *immutable array* or as *ordered set*. \n",
    "- - The methods `loc` and `iloc`, can be used to access and assign to columns, rows and cells;\n",
    "- `loc` selects by row and column by lables only.\n",
    "- `iloc` selects by row and column by numbers only."
   ]
  },
  {
   "cell_type": "code",
   "execution_count": 80,
   "metadata": {},
   "outputs": [
    {
     "data": {
      "text/plain": [
       "MASS             89320000000000006291456.0\n",
       "radius                           1822000.0\n",
       "parent_planet                      Jupiter\n",
       "Name: Io, dtype: object"
      ]
     },
     "execution_count": 80,
     "metadata": {},
     "output_type": "execute_result"
    }
   ],
   "source": [
    "#df.loc['Europa']\n",
    "df.iloc[2]"
   ]
  },
  {
   "cell_type": "code",
   "execution_count": 81,
   "metadata": {},
   "outputs": [
    {
     "data": {
      "text/html": [
       "<div>\n",
       "<style scoped>\n",
       "    .dataframe tbody tr th:only-of-type {\n",
       "        vertical-align: middle;\n",
       "    }\n",
       "\n",
       "    .dataframe tbody tr th {\n",
       "        vertical-align: top;\n",
       "    }\n",
       "\n",
       "    .dataframe thead th {\n",
       "        text-align: right;\n",
       "    }\n",
       "</style>\n",
       "<table border=\"1\" class=\"dataframe\">\n",
       "  <thead>\n",
       "    <tr style=\"text-align: right;\">\n",
       "      <th></th>\n",
       "      <th>MASS</th>\n",
       "      <th>radius</th>\n",
       "      <th>parent_planet</th>\n",
       "    </tr>\n",
       "  </thead>\n",
       "  <tbody>\n",
       "    <tr>\n",
       "      <th>Ganymede</th>\n",
       "      <td>1.482000e+23</td>\n",
       "      <td>2634000.0</td>\n",
       "      <td>Jupiter</td>\n",
       "    </tr>\n",
       "    <tr>\n",
       "      <th>Callisto</th>\n",
       "      <td>1.076000e+23</td>\n",
       "      <td>NaN</td>\n",
       "      <td>Jupiter</td>\n",
       "    </tr>\n",
       "    <tr>\n",
       "      <th>Io</th>\n",
       "      <td>8.932000e+22</td>\n",
       "      <td>1822000.0</td>\n",
       "      <td>Jupiter</td>\n",
       "    </tr>\n",
       "    <tr>\n",
       "      <th>Europa</th>\n",
       "      <td>4.800000e+22</td>\n",
       "      <td>NaN</td>\n",
       "      <td>Jupiter</td>\n",
       "    </tr>\n",
       "    <tr>\n",
       "      <th>The Moon</th>\n",
       "      <td>7.342000e+22</td>\n",
       "      <td>1737000.0</td>\n",
       "      <td>Earth</td>\n",
       "    </tr>\n",
       "  </tbody>\n",
       "</table>\n",
       "</div>"
      ],
      "text/plain": [
       "                  MASS     radius parent_planet\n",
       "Ganymede  1.482000e+23  2634000.0       Jupiter\n",
       "Callisto  1.076000e+23        NaN       Jupiter\n",
       "Io        8.932000e+22  1822000.0       Jupiter\n",
       "Europa    4.800000e+22        NaN       Jupiter\n",
       "The Moon  7.342000e+22  1737000.0         Earth"
      ]
     },
     "execution_count": 81,
     "metadata": {},
     "output_type": "execute_result"
    }
   ],
   "source": [
    "df"
   ]
  },
  {
   "cell_type": "code",
   "execution_count": 72,
   "metadata": {},
   "outputs": [
    {
     "data": {
      "text/plain": [
       "MASS             48000000000000000000000.0\n",
       "parent_planet                      Jupiter\n",
       "Name: Europa, dtype: object"
      ]
     },
     "execution_count": 72,
     "metadata": {},
     "output_type": "execute_result"
    }
   ],
   "source": [
    "df.loc['Europa',['MASS','parent_planet']]"
   ]
  },
  {
   "cell_type": "code",
   "execution_count": 73,
   "metadata": {},
   "outputs": [
    {
     "data": {
      "text/plain": [
       "Ganymede    1.482000e+23\n",
       "Callisto    1.076000e+23\n",
       "Io          8.932000e+22\n",
       "Europa      4.800000e+22\n",
       "The Moon    7.342000e+22\n",
       "Name: MASS, dtype: float64"
      ]
     },
     "execution_count": 73,
     "metadata": {},
     "output_type": "execute_result"
    }
   ],
   "source": [
    "# slicing\n",
    "df.loc[:,'MASS'] # the same as df [ ' mass '] - returns a Series"
   ]
  },
  {
   "cell_type": "code",
   "execution_count": 74,
   "metadata": {},
   "outputs": [
    {
     "data": {
      "text/html": [
       "<div>\n",
       "<style scoped>\n",
       "    .dataframe tbody tr th:only-of-type {\n",
       "        vertical-align: middle;\n",
       "    }\n",
       "\n",
       "    .dataframe tbody tr th {\n",
       "        vertical-align: top;\n",
       "    }\n",
       "\n",
       "    .dataframe thead th {\n",
       "        text-align: right;\n",
       "    }\n",
       "</style>\n",
       "<table border=\"1\" class=\"dataframe\">\n",
       "  <thead>\n",
       "    <tr style=\"text-align: right;\">\n",
       "      <th></th>\n",
       "      <th>MASS</th>\n",
       "      <th>radius</th>\n",
       "    </tr>\n",
       "  </thead>\n",
       "  <tbody>\n",
       "    <tr>\n",
       "      <th>Ganymede</th>\n",
       "      <td>1.482000e+23</td>\n",
       "      <td>2634000.0</td>\n",
       "    </tr>\n",
       "    <tr>\n",
       "      <th>Callisto</th>\n",
       "      <td>1.076000e+23</td>\n",
       "      <td>NaN</td>\n",
       "    </tr>\n",
       "    <tr>\n",
       "      <th>Io</th>\n",
       "      <td>8.932000e+22</td>\n",
       "      <td>1822000.0</td>\n",
       "    </tr>\n",
       "  </tbody>\n",
       "</table>\n",
       "</div>"
      ],
      "text/plain": [
       "                  MASS     radius\n",
       "Ganymede  1.482000e+23  2634000.0\n",
       "Callisto  1.076000e+23        NaN\n",
       "Io        8.932000e+22  1822000.0"
      ]
     },
     "execution_count": 74,
     "metadata": {},
     "output_type": "execute_result"
    }
   ],
   "source": [
    "df.loc['Ganymede':'Io',['MASS','radius']]"
   ]
  },
  {
   "cell_type": "code",
   "execution_count": 83,
   "metadata": {},
   "outputs": [
    {
     "data": {
      "text/plain": [
       "The Moon      Earth\n",
       "Europa      Jupiter\n",
       "Name: parent_planet, dtype: object"
      ]
     },
     "execution_count": 83,
     "metadata": {},
     "output_type": "execute_result"
    }
   ],
   "source": [
    "df.loc[['The Moon','Europa'],'parent_planet']"
   ]
  },
  {
   "cell_type": "code",
   "execution_count": 76,
   "metadata": {},
   "outputs": [
    {
     "data": {
      "text/plain": [
       "Ganymede    2634000.0\n",
       "Callisto          NaN\n",
       "Io          1822000.0\n",
       "Europa            NaN\n",
       "Name: radius, dtype: float64"
      ]
     },
     "execution_count": 76,
     "metadata": {},
     "output_type": "execute_result"
    }
   ],
   "source": [
    "df.loc[df.parent_planet=='Jupiter','radius']"
   ]
  },
  {
   "cell_type": "code",
   "execution_count": null,
   "metadata": {},
   "outputs": [],
   "source": [
    "# modify the data \n",
    "df.loc['Europa','radius'] = 1.561e6\n",
    "df.loc['Europa']"
   ]
  },
  {
   "cell_type": "code",
   "execution_count": null,
   "metadata": {},
   "outputs": [],
   "source": [
    "df.loc[df.parent_planet=='Jupiter','MASS']"
   ]
  },
  {
   "cell_type": "code",
   "execution_count": null,
   "metadata": {},
   "outputs": [],
   "source": [
    "# The rows corresponding to moons with radii less than 2000 km\n",
    "df.loc[df.radius < 2e6,'parent_planet']"
   ]
  },
  {
   "cell_type": "code",
   "execution_count": null,
   "metadata": {},
   "outputs": [],
   "source": [
    "df.iloc[2]"
   ]
  },
  {
   "cell_type": "markdown",
   "metadata": {},
   "source": [
    "The second method, `iloc`, retrieves data by numerical index position:"
   ]
  },
  {
   "cell_type": "code",
   "execution_count": null,
   "metadata": {},
   "outputs": [],
   "source": [
    "df.iloc[1] # the second row"
   ]
  },
  {
   "cell_type": "code",
   "execution_count": null,
   "metadata": {},
   "outputs": [],
   "source": [
    "df.iloc[1:,[1,2]] # all row, second and third columns"
   ]
  },
  {
   "cell_type": "code",
   "execution_count": null,
   "metadata": {},
   "outputs": [],
   "source": [
    "df.iloc[-1,1] # last row, columns 1"
   ]
  },
  {
   "cell_type": "code",
   "execution_count": null,
   "metadata": {},
   "outputs": [],
   "source": [
    "# For single scalar values\n",
    "df.at['Moon','radius'] # same as df.loc['Moon','mass']\n"
   ]
  },
  {
   "cell_type": "code",
   "execution_count": null,
   "metadata": {},
   "outputs": [],
   "source": [
    "df.iat[-1,0] # same as df.iloc[-1,0]"
   ]
  },
  {
   "cell_type": "markdown",
   "metadata": {},
   "source": [
    "- `loc` always refers to the index labels, whereas `iloc` takes a integer location index."
   ]
  },
  {
   "cell_type": "code",
   "execution_count": null,
   "metadata": {},
   "outputs": [],
   "source": [
    "df = pd.DataFrame(np.arange(12).reshape(4,3)+10,index=[1,2,3,4], columns = list('abc'))\n",
    "df"
   ]
  },
  {
   "cell_type": "code",
   "execution_count": null,
   "metadata": {},
   "outputs": [],
   "source": [
    "df.loc[1] # the row with index \"label\" 1 (the first row)"
   ]
  },
  {
   "cell_type": "code",
   "execution_count": null,
   "metadata": {},
   "outputs": [],
   "source": [
    "df.iloc[0]"
   ]
  },
  {
   "cell_type": "code",
   "execution_count": null,
   "metadata": {},
   "outputs": [],
   "source": [
    "df.iloc[1]"
   ]
  },
  {
   "cell_type": "code",
   "execution_count": null,
   "metadata": {},
   "outputs": [],
   "source": [
    "df.index = ['row1',2,2,3] # change the index labels\n",
    "df"
   ]
  },
  {
   "cell_type": "code",
   "execution_count": null,
   "metadata": {},
   "outputs": [],
   "source": [
    "df.loc[2] # a DataFrame: all rows labeled 2"
   ]
  },
  {
   "cell_type": "code",
   "execution_count": null,
   "metadata": {},
   "outputs": [],
   "source": [
    "df.iloc[2]"
   ]
  },
  {
   "cell_type": "markdown",
   "metadata": {},
   "source": [
    "## Combining Series and DataFrame\n",
    "\n",
    "- To create a `DataFrame` is from a nested dictionary or from a dictionary of `Series`."
   ]
  },
  {
   "cell_type": "code",
   "execution_count": null,
   "metadata": {},
   "outputs": [],
   "source": [
    "boeing_wingspan = pd.Series({'B747-8': 68.4, 'B777-9': 64.8, 'B787-10': 60.12},\n",
    "                            name='wingspan')\n",
    "boeing_length = pd.Series({'B747-8': 76.3, 'B777-9': 76.7, 'B787-10': 68.28},\n",
    "                          name='length')\n",
    "boeing_range = pd.Series({'B777-9': 13940, 'B787-10': 11910},\n",
    "                         name='range', dtype=float)"
   ]
  },
  {
   "cell_type": "code",
   "execution_count": null,
   "metadata": {},
   "outputs": [],
   "source": [
    "# Create a DataFrame from a dictionary of Series.\n",
    "df_boeing = pd.DataFrame({'wingspan':boeing_wingspan,'length':boeing_length, 'range': boeing_range})"
   ]
  },
  {
   "cell_type": "code",
   "execution_count": null,
   "metadata": {},
   "outputs": [],
   "source": [
    "# Create a DataFrame from a dictionary of dictionaries\n",
    "df_airbus = pd.DataFrame({'range': {'A350 -1000': 16100, 'A380 -800': 14800},\n",
    "                          'wingspan': {'A350 -1000': 64.75, 'A380 -800': 79.75},\n",
    "                          'length': {'A350 -1000': 73.8, 'A380 -800': 72.72} })"
   ]
  },
  {
   "cell_type": "code",
   "execution_count": null,
   "metadata": {},
   "outputs": [],
   "source": [
    "df_airbus"
   ]
  },
  {
   "cell_type": "code",
   "execution_count": null,
   "metadata": {},
   "outputs": [],
   "source": [
    "df_boeing"
   ]
  },
  {
   "cell_type": "code",
   "execution_count": null,
   "metadata": {},
   "outputs": [],
   "source": [
    "df_aircraft = pd.concat((df_airbus,df_boeing))\n",
    "df_aircraft"
   ]
  },
  {
   "cell_type": "code",
   "execution_count": null,
   "metadata": {},
   "outputs": [],
   "source": [
    "df_airbus.append(df_boeing)"
   ]
  },
  {
   "cell_type": "code",
   "execution_count": null,
   "metadata": {},
   "outputs": [],
   "source": [
    "df_airbus['speed'] = [950,903]\n",
    "df_airbus"
   ]
  },
  {
   "cell_type": "code",
   "execution_count": null,
   "metadata": {},
   "outputs": [],
   "source": [
    "df_aircraft = pd.concat((df_airbus,df_boeing))\n",
    "df_aircraft"
   ]
  },
  {
   "cell_type": "code",
   "execution_count": null,
   "metadata": {},
   "outputs": [],
   "source": [
    "speeds = df_aircraft['speed']\n",
    "speeds['B747-8','B787-10'] = 903, 956\n",
    "jumbo = df_aircraft.loc['B747-8']\n",
    "jumbo.range = 15000\n",
    "df_aircraft"
   ]
  },
  {
   "cell_type": "code",
   "execution_count": null,
   "metadata": {},
   "outputs": [],
   "source": [
    "del df_aircraft['speed']"
   ]
  },
  {
   "cell_type": "code",
   "execution_count": null,
   "metadata": {},
   "outputs": [],
   "source": [
    "df_aircraft"
   ]
  },
  {
   "cell_type": "code",
   "execution_count": null,
   "metadata": {},
   "outputs": [],
   "source": [
    "# The drop function can be used to selectively remove rows and columns\n",
    "df_aircraft.drop(['A350 -1000','A380 -800'])"
   ]
  },
  {
   "cell_type": "code",
   "execution_count": null,
   "metadata": {},
   "outputs": [],
   "source": [
    "#drop a column/multiple\n",
    "df_aircraft.drop(['length','wingspan'], axis='columns',inplace=True)\n",
    "df_aircraft"
   ]
  },
  {
   "cell_type": "markdown",
   "metadata": {},
   "source": [
    "## Reading and Writing Series and DataFrames\n",
    "### Reading Text Files\n",
    "\n",
    "- The core method for reading text files of data into a `DataFrame` is `pd.read_csv`.\n",
    "- It takes around 49 possible arguments\n",
    "- Some important arguments discussed below:\n",
    "    - `filepath` or `buffer`: The path to the file to read \n",
    "    -  `sep`: The column delimiter; by default ',', but use '\\s+' for whitespace delimeter columns, '\\t+' for tab-delimiters, or `None`\n",
    "    -  `delimiter`: An alias for `sep`\n",
    "    -  `header`: The row numbers to use for the column names. Default `header=0`: use the first row for the column names. If the file doesn't have column names, specify `header=None` and set the column names with the `names` argument.\n",
    "    - `names`: A sequence of unique column names to use. If the file contains no header, set `header=None` in addition to setting names.\n",
    "    - `index_col`: The column(s) to use as the row labels in the `DataFrame`.\n",
    "    - `usecols`: A sequence of column indices or column names identifying the columns to be read into the `DataFrame`.\n",
    "    - `squeeze`:  If the data required consist of a single column, then `squeeze=True` will return a `Series` instead of the default, a `DataFrame`\n",
    "    - `skiprows`: An integer giving the number of lines at the start of the file to skip over before reading the data or a sequence giving the indices of rows to skip.\n",
    "    -  `skipfooter`: The number of rows at the bottom of the file to skip (by default, 0).\n",
    "    -  `nrows`: The number of rows of the file to read: this is useful for reading a subset of lines from a very large file for testing or exploring its data.\n",
    "    -  `na_values`: A string or sequence of strings to treat as `NaN` values, in addition to the default values which include 'NaN', 'NA', 'NULL' and '#N/A' (see the documentation for a full list).\n",
    "\n"
   ]
  },
  {
   "cell_type": "code",
   "execution_count": null,
   "metadata": {},
   "outputs": [],
   "source": [
    "import pandas as pd \n",
    "import numpy as np"
   ]
  },
  {
   "cell_type": "code",
   "execution_count": null,
   "metadata": {},
   "outputs": [],
   "source": [
    "df_airlines = pd.read_csv('E:/MDSC-106/Datasets/airlines_usa.csv')#skiprows=1,index_col=6,usecols=range(2),nrows=3\n",
    "df_airlines.head()"
   ]
  },
  {
   "cell_type": "code",
   "execution_count": null,
   "metadata": {},
   "outputs": [],
   "source": [
    "#df_airlines.columns = df_airlines.columns.str.strip()\n",
    "#df_airlines.columns  "
   ]
  },
  {
   "cell_type": "code",
   "execution_count": null,
   "metadata": {},
   "outputs": [],
   "source": [
    "#rename columns using lambda functions\n",
    "df_airlines.rename(columns = lambda x: x.strip())\n",
    "df_airlines.columns"
   ]
  },
  {
   "cell_type": "code",
   "execution_count": null,
   "metadata": {},
   "outputs": [],
   "source": [
    "df_airlines.columns = df_airlines.columns.str.strip()\n",
    "df_airlines.columns"
   ]
  },
  {
   "cell_type": "markdown",
   "metadata": {},
   "source": [
    "## Writing Text Files\n",
    "- The `DataFrame` method `to_csv` outputs its data to a text file, formatted as arguments summarized below:\n",
    "    - `path`_or_`buf`: A file path or file object to output to; if None, the DataFrame is returned as string.\n",
    "    - `sep`: The single-character field-delimiter (defaults to ',').\n",
    "    - `na_rep`: The string to use to represent missing data (defaults to the empty string,'').\n",
    "    - `float_format`: The C-style format specifier for floating-point numbers.\n",
    "    - `columns`: A sequence identifying the columns to output.\n",
    "    - `header`: By default, `True`, indicating that column names should be output; can be set to `False` or a list of column names.\n",
    "    - `index`: By default, `True`, indicating that row names should be output.\n",
    "    - `compression`: One of 'infer', 'gzip', 'bz2', 'zip', 'xz', `None` to specify whether and how to compress the output file. The default is 'infer': pandas determines the intended compression method from the filename extension."
   ]
  },
  {
   "cell_type": "code",
   "execution_count": null,
   "metadata": {},
   "outputs": [],
   "source": [
    "import pandas as pd  \n",
    "import numpy as np "
   ]
  },
  {
   "cell_type": "code",
   "execution_count": null,
   "metadata": {},
   "outputs": [],
   "source": [
    "# Reading in a text table of vitamin data\n",
    "\n",
    "df = pd.read_csv('vitamin.txt', delim_whitespace =True, skiprows=4, \n",
    "                 skipfooter=1, header=None, usecols=(1,2,3), names = ['Vitamin','Solubility','RDA'], index_col=0)\n",
    "print(df)"
   ]
  },
  {
   "cell_type": "code",
   "execution_count": null,
   "metadata": {},
   "outputs": [],
   "source": [
    "def average_rda_in_micrograms(col):\n",
    "    def ensure_microgram(s):\n",
    "        if s.endswith('ug'):\n",
    "            return float(s[:-2]) \n",
    "        elif s.endswith('mg'):\n",
    "            return float(s[:-2]) * 1000  \n",
    "        raise ValueError(f'Unrecognised Units in {s}')\n",
    "    fields = col.split('/')\n",
    "    return sum([ensure_microgram(s) for s in fields]) / len(fields) \n"
   ]
  },
  {
   "cell_type": "code",
   "execution_count": null,
   "metadata": {},
   "outputs": [],
   "source": [
    "\n",
    "df = pd.read_csv('vitamin.txt', delim_whitespace =True, skiprows=4, \n",
    "                skipfooter=1, header=None, usecols=(1,2,3),\n",
    "                converters ={'RDA': average_rda_in_micrograms},\n",
    "                names = ['Vitamin','Solubility','RDA'], index_col=0)\n",
    "print(df)"
   ]
  },
  {
   "cell_type": "code",
   "execution_count": null,
   "metadata": {},
   "outputs": [],
   "source": [
    "df.to_csv('vitamins.csv',float_format='%.1f', columns=['Solubility','RDA'])\n",
    "df"
   ]
  },
  {
   "cell_type": "code",
   "execution_count": null,
   "metadata": {},
   "outputs": [],
   "source": [
    "df"
   ]
  },
  {
   "cell_type": "markdown",
   "metadata": {},
   "source": [
    "## Microsoft Excel Files\n",
    "\n",
    "- Pandas is able to read `DataFrame` from Excel files with both `.xls` and `.xlsx` extensions with the function `pd.read_excel`."
   ]
  },
  {
   "cell_type": "code",
   "execution_count": null,
   "metadata": {},
   "outputs": [],
   "source": [
    "#pip install xlrd \n",
    "#pip install openpyxl\n",
    "df = pd.read_excel('E:/Datasets/bond-lengths.xlsx',\n",
    "                   index_col =0, # the first column contains the index labels\n",
    "                   skipfooter =2, # ignore the last two lines of the sheet\n",
    "                   header =1, # take the column names from the second row\n",
    "                   usecols='A:E', # use Excel columns labeled A-E\n",
    "                   sheet_name ='Diatomics' # take data from this sheet\n",
    ")\n",
    "print(df)\n"
   ]
  },
  {
   "cell_type": "markdown",
   "metadata": {},
   "source": [
    "## Advanced Indexing\n",
    "### Multiindex \n"
   ]
  },
  {
   "cell_type": "code",
   "execution_count": null,
   "metadata": {},
   "outputs": [],
   "source": [
    "cities = ('Paris', 'Berlin', 'Vienna', 'London', 'Madrid')\n",
    "months = ('Jan', 'Apr', 'Jul', 'Oct')\n",
    "index = pd.MultiIndex.from_tuples((city, month) for city in cities for month in months)\n",
    "index\n"
   ]
  },
  {
   "cell_type": "code",
   "execution_count": null,
   "metadata": {},
   "outputs": [],
   "source": [
    "index =pd.MultiIndex.from_product((cities,months))\n",
    "index"
   ]
  },
  {
   "cell_type": "code",
   "execution_count": null,
   "metadata": {},
   "outputs": [],
   "source": [
    "import numpy as np"
   ]
  },
  {
   "cell_type": "code",
   "execution_count": null,
   "metadata": {},
   "outputs": [],
   "source": [
    "index.names =['City','Month']\n",
    "temps = [[4.9 , 11.5 , 20.5 , 13.0] , [0.1 , 9.0, 19.1 , 9.4] ,\n",
    "         [0.3 , 10.7 , 20.8 , 10.2] , [5.2 , 9.9, 18.7 , 12.0] ,\n",
    "         [6.3 , 12.9 , 25.6 , 15.1]\n",
    "]\n",
    "rainfall = [[51.0 , 51.8 , 62.3 , 61.5] , [37.2 , 33.7 , 52.5 , 32.2] ,\n",
    "            [38. , 45., 70., 38.] , [55.2 , 43.7 , 44.5 , 68.5] ,\n",
    "            [33. , 45., 12., 60.]]\n",
    "arr = np.array((temps , rainfall )).reshape(2,20).T\n",
    "\n",
    "df = pd. DataFrame (arr , index=index , columns =['Mean temperature /degC','Mean rainfall /mm'])\n",
    "print(df)\n"
   ]
  },
  {
   "cell_type": "code",
   "execution_count": null,
   "metadata": {},
   "outputs": [],
   "source": [
    "df"
   ]
  },
  {
   "cell_type": "markdown",
   "metadata": {},
   "source": [
    "- Data Cleaning Need to added\n",
    "- Missing Values\n",
    "- Outliers\n",
    "- Binding"
   ]
  },
  {
   "cell_type": "markdown",
   "metadata": {},
   "source": [
    "## Data Grouping and Aggregation\n",
    "#### DataFrame Grouping with groupby  \n",
    "- The method `groupby` to analyze data in a `Series` or `DataFrame` based on their categorization according to some key row/ column values.\n",
    "- \n"
   ]
  },
  {
   "cell_type": "code",
   "execution_count": null,
   "metadata": {},
   "outputs": [],
   "source": [
    "import pandas as pd\n",
    "import numpy as np "
   ]
  },
  {
   "cell_type": "code",
   "execution_count": null,
   "metadata": {},
   "outputs": [],
   "source": [
    "# Consider the following data\n",
    "data = [['Anu', 'A', 5.4] , ['Anu', 'B', 6.7] , ['Anu', 'C', 10.1] ,\n",
    "        ['Jenny', 'A', 6.5] , ['Jenny', 'B', 5.9] , ['Jenny', 'C', 12.2] ,\n",
    "        ['Tom', 'A', 4.0] , ['Tom', 'B', None], ['Tom', 'C', 9.5]\n",
    "        ]"
   ]
  },
  {
   "cell_type": "code",
   "execution_count": null,
   "metadata": {},
   "outputs": [],
   "source": [
    "df = pd.DataFrame(data,columns=['Student','Compound','Yield/g'])\n",
    "print(df)"
   ]
  },
  {
   "cell_type": "code",
   "execution_count": null,
   "metadata": {},
   "outputs": [],
   "source": [
    "grouped = df.groupby('Compound')\n",
    "grouped"
   ]
  },
  {
   "cell_type": "code",
   "execution_count": null,
   "metadata": {},
   "outputs": [],
   "source": [
    "grouped.mean()"
   ]
  },
  {
   "cell_type": "code",
   "execution_count": null,
   "metadata": {},
   "outputs": [],
   "source": [
    "grouped.max()"
   ]
  },
  {
   "cell_type": "code",
   "execution_count": null,
   "metadata": {},
   "outputs": [],
   "source": [
    "grouped['Yield/g'].mean()"
   ]
  },
  {
   "cell_type": "code",
   "execution_count": null,
   "metadata": {},
   "outputs": [],
   "source": [
    "# groupby() can be iterated\n",
    "for compund, group in grouped:\n",
    "    print('Compound:', compund)\n",
    "    print(group)"
   ]
  },
  {
   "cell_type": "code",
   "execution_count": null,
   "metadata": {},
   "outputs": [],
   "source": [
    "grouped = df.groupby('Student')"
   ]
  },
  {
   "cell_type": "code",
   "execution_count": null,
   "metadata": {},
   "outputs": [],
   "source": [
    "grouped.mean()"
   ]
  },
  {
   "cell_type": "code",
   "execution_count": null,
   "metadata": {},
   "outputs": [],
   "source": [
    "degree_programmes = {'Anu':'Chemistry',\n",
    "                     'Jenny':'Chemistry',\n",
    "                     'Tom': 'Pharmacology'}"
   ]
  },
  {
   "cell_type": "code",
   "execution_count": null,
   "metadata": {},
   "outputs": [],
   "source": [
    "#df.set_index('Student',inplace=True) \n",
    "df.groupby(degree_programmes).mean()\n"
   ]
  },
  {
   "cell_type": "markdown",
   "metadata": {},
   "source": [
    "## Exercise:\n",
    "- P9.5.1 Pg # 482\n",
    "- P9.5.2 Pg # 482"
   ]
  },
  {
   "cell_type": "markdown",
   "metadata": {},
   "source": [
    "## Data Visualization"
   ]
  },
  {
   "cell_type": "markdown",
   "metadata": {},
   "source": [
    "The file `nuclear-explosion-data.csv`, available to download\n",
    "[here](https://scipython.com/eg/ban), and it contains data on all nuclear explosions between 1945 and 1998. We will use pandas to analyze it in various ways."
   ]
  },
  {
   "cell_type": "code",
   "execution_count": null,
   "metadata": {},
   "outputs": [],
   "source": [
    "df = pd.read_csv('E:/Datasets/nuclear-explosion-data.csv')\n",
    "df.head(10)"
   ]
  },
  {
   "cell_type": "code",
   "execution_count": null,
   "metadata": {},
   "outputs": [],
   "source": [
    "df.index"
   ]
  },
  {
   "cell_type": "code",
   "execution_count": null,
   "metadata": {},
   "outputs": [],
   "source": [
    "df.columns"
   ]
  },
  {
   "cell_type": "code",
   "execution_count": null,
   "metadata": {},
   "outputs": [],
   "source": [
    "df.describe()"
   ]
  },
  {
   "cell_type": "code",
   "execution_count": null,
   "metadata": {},
   "outputs": [],
   "source": [
    "# datetime parsing\n",
    "#from datetime import datetime\n",
    "def parse_time(t):\n",
    "    hr, t = divmod(t,10000)\n",
    "    minute, t = divmod(t,100) \n",
    "    return int(hr), int(minute), int(t)  \n",
    "\n",
    "def parse_datetime(date,time):\n",
    "    date_and_time = datetime.strptime(str(date), '%Y%m%d')  \n",
    "    hr, minute, second = parse_time(time)\n",
    "    return date_and_time.replace(hour=hr, minute=minute, second=second)"
   ]
  },
  {
   "cell_type": "code",
   "execution_count": null,
   "metadata": {},
   "outputs": [],
   "source": [
    "from datetime import datetime\n",
    "dt = datetime.strptime(str(20211025), '%Y%m%d')\n",
    "dt.replace(hour=14,minute=52,second=2)"
   ]
  },
  {
   "cell_type": "code",
   "execution_count": null,
   "metadata": {},
   "outputs": [],
   "source": [
    "divmod(5,3)"
   ]
  },
  {
   "cell_type": "code",
   "execution_count": null,
   "metadata": {},
   "outputs": [],
   "source": [
    "df.index = pd.DatetimeIndex([parse_datetime(date,time) for date,time in zip(df['date'],df['time'])])\n",
    "print(df)"
   ]
  },
  {
   "cell_type": "code",
   "execution_count": null,
   "metadata": {},
   "outputs": [],
   "source": [
    "df.index.year"
   ]
  },
  {
   "cell_type": "code",
   "execution_count": null,
   "metadata": {},
   "outputs": [],
   "source": [
    "explosion_number = df.groupby(df.index.year).size()\n",
    "print(explosion_number)"
   ]
  },
  {
   "cell_type": "code",
   "execution_count": null,
   "metadata": {},
   "outputs": [],
   "source": [
    "import matplotlib.pyplot as plt\n",
    "fig, ax = plt.subplots()\n",
    "ax.bar(explosion_number.index,explosion_number.values)\n",
    "ax.set_xlabel('Year')\n",
    "ax.set_ylabel('# of nuclear explosions') \n",
    "ax.set_title('Nuclear Explosions between 1945-1998')\n",
    "plt.show()"
   ]
  },
  {
   "cell_type": "code",
   "execution_count": null,
   "metadata": {},
   "outputs": [],
   "source": [
    "df2 = df.groupby([df.index.year, df.country])\n",
    "explosions_by_country = df2.size()\n",
    "print(explosions_by_country.head(10))"
   ]
  },
  {
   "cell_type": "markdown",
   "metadata": {},
   "source": [
    "The `unstack()` method has the added benefit of allowing us to specify how to fill in \n",
    "missing values that come into existence upon reshaping the data. To do so, we can use the \n",
    "`fill_value` parameter."
   ]
  },
  {
   "cell_type": "code",
   "execution_count": 85,
   "metadata": {},
   "outputs": [
    {
     "ename": "NameError",
     "evalue": "name 'explosions_by_country' is not defined",
     "output_type": "error",
     "traceback": [
      "\u001b[1;31m---------------------------------------------------------------------------\u001b[0m",
      "\u001b[1;31mNameError\u001b[0m                                 Traceback (most recent call last)",
      "Input \u001b[1;32mIn [85]\u001b[0m, in \u001b[0;36m<cell line: 1>\u001b[1;34m()\u001b[0m\n\u001b[1;32m----> 1\u001b[0m explosions_by_country \u001b[38;5;241m=\u001b[39m \u001b[43mexplosions_by_country\u001b[49m\u001b[38;5;241m.\u001b[39munstack()\u001b[38;5;241m.\u001b[39mfillna(\u001b[38;5;241m0\u001b[39m)\n\u001b[0;32m      2\u001b[0m \u001b[38;5;28mprint\u001b[39m(explosions_by_country\u001b[38;5;241m.\u001b[39mhead(\u001b[38;5;241m10\u001b[39m))\n",
      "\u001b[1;31mNameError\u001b[0m: name 'explosions_by_country' is not defined"
     ]
    }
   ],
   "source": [
    "explosions_by_country = explosions_by_country.unstack().fillna(0)\n",
    "print(explosions_by_country.head(10))"
   ]
  },
  {
   "cell_type": "code",
   "execution_count": 84,
   "metadata": {},
   "outputs": [
    {
     "ename": "NameError",
     "evalue": "name 'explosions_by_country' is not defined",
     "output_type": "error",
     "traceback": [
      "\u001b[1;31m---------------------------------------------------------------------------\u001b[0m",
      "\u001b[1;31mNameError\u001b[0m                                 Traceback (most recent call last)",
      "Input \u001b[1;32mIn [84]\u001b[0m, in \u001b[0;36m<cell line: 2>\u001b[1;34m()\u001b[0m\n\u001b[0;32m      1\u001b[0m countries \u001b[38;5;241m=\u001b[39m[\u001b[38;5;124m'\u001b[39m\u001b[38;5;124mUSA\u001b[39m\u001b[38;5;124m'\u001b[39m, \u001b[38;5;124m'\u001b[39m\u001b[38;5;124mUSSR\u001b[39m\u001b[38;5;124m'\u001b[39m,\u001b[38;5;124m'\u001b[39m\u001b[38;5;124mUK\u001b[39m\u001b[38;5;124m'\u001b[39m,\u001b[38;5;124m'\u001b[39m\u001b[38;5;124mFRANCE\u001b[39m\u001b[38;5;124m'\u001b[39m,\u001b[38;5;124m'\u001b[39m\u001b[38;5;124mCHINA\u001b[39m\u001b[38;5;124m'\u001b[39m,\u001b[38;5;124m'\u001b[39m\u001b[38;5;124mINDIA\u001b[39m\u001b[38;5;124m'\u001b[39m,\u001b[38;5;124m'\u001b[39m\u001b[38;5;124mPAKISTAN\u001b[39m\u001b[38;5;124m'\u001b[39m]\n\u001b[1;32m----> 2\u001b[0m bottom \u001b[38;5;241m=\u001b[39m np\u001b[38;5;241m.\u001b[39mzeros(\u001b[38;5;28mlen\u001b[39m(\u001b[43mexplosions_by_country\u001b[49m))\n\u001b[0;32m      3\u001b[0m fig, ax \u001b[38;5;241m=\u001b[39m plt\u001b[38;5;241m.\u001b[39msubplots()\n\u001b[0;32m      4\u001b[0m \u001b[38;5;28;01mfor\u001b[39;00m country \u001b[38;5;129;01min\u001b[39;00m countries:\n",
      "\u001b[1;31mNameError\u001b[0m: name 'explosions_by_country' is not defined"
     ]
    }
   ],
   "source": [
    "countries =['USA', 'USSR','UK','FRANCE','CHINA','INDIA','PAKISTAN']\n",
    "bottom = np.zeros(len(explosions_by_country))\n",
    "fig, ax = plt.subplots()\n",
    "for country in countries:\n",
    "    ax.bar(explosions_by_country.index, explosions_by_country[country],\n",
    "           bottom=bottom , label=country)\n",
    "    bottom += explosions_by_country[country].values  \n",
    "    \n",
    "ax.set_xlabel('Year')\n",
    "ax.set_ylabel('Number of nuclear explosions')  \n",
    "ax.legend()\n",
    "plt.show()"
   ]
  },
  {
   "cell_type": "markdown",
   "metadata": {},
   "source": [
    "## Exercise:\n",
    "- Explore Example E9.14 Page # 488"
   ]
  },
  {
   "cell_type": "code",
   "execution_count": null,
   "metadata": {},
   "outputs": [],
   "source": []
  }
 ],
 "metadata": {
  "kernelspec": {
   "display_name": "Python 3 (ipykernel)",
   "language": "python",
   "name": "python3"
  },
  "language_info": {
   "codemirror_mode": {
    "name": "ipython",
    "version": 3
   },
   "file_extension": ".py",
   "mimetype": "text/x-python",
   "name": "python",
   "nbconvert_exporter": "python",
   "pygments_lexer": "ipython3",
   "version": "3.9.13"
  },
  "vscode": {
   "interpreter": {
    "hash": "b317895cf65311fbae6965972ca6466a5816a4dcb988784ceba152b4d57e4b8d"
   }
  }
 },
 "nbformat": 4,
 "nbformat_minor": 2
}
