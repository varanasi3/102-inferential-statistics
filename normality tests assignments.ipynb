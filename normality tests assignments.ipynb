{
 "cells": [
  {
   "cell_type": "code",
   "execution_count": 7,
   "id": "a7419ca5",
   "metadata": {},
   "outputs": [],
   "source": [
    "import numpy as np\n",
    "import matplotlib.pyplot as plt\n",
    "import scipy.stats as stats\n",
    "import pandas as pd"
   ]
  },
  {
   "cell_type": "markdown",
   "id": "a071d2bb",
   "metadata": {},
   "source": [
    "## one sample t-test"
   ]
  },
  {
   "cell_type": "code",
   "execution_count": 2,
   "id": "9a2aa760",
   "metadata": {},
   "outputs": [
    {
     "name": "stdout",
     "output_type": "stream",
     "text": [
      "mean= 1.816\n",
      "t test observation value =  2.3968766311585883\n"
     ]
    }
   ],
   "source": [
    "x= [ 1.83, 1.83, 1.73, 1.82, 1.83, 1.73, 1.99, 1.85, 1.68, 1.87]\n",
    "\n",
    "mean  = np.mean(x)\n",
    "print(\"mean=\",mean)\n",
    "h0 = 1.75\n",
    "standard_deviation = np.std(x,ddof=1)\n",
    "n = len(x)\n",
    "\n",
    "t_test = (mean-h0)/(standard_deviation/np.sqrt(n))\n",
    "print(\"t test observation value = \",t_test)\n"
   ]
  },
  {
   "cell_type": "markdown",
   "id": "99363c16",
   "metadata": {},
   "source": [
    "## Plot"
   ]
  },
  {
   "cell_type": "code",
   "execution_count": 3,
   "id": "d3ca099f",
   "metadata": {},
   "outputs": [
    {
     "data": {
      "text/plain": [
       "<matplotlib.legend.Legend at 0x114c9955a60>"
      ]
     },
     "execution_count": 3,
     "metadata": {},
     "output_type": "execute_result"
    },
    {
     "data": {
      "image/png": "[encoded data removed]",
      "text/plain": [
       "<Figure size 432x288 with 1 Axes>"
      ]
     },
     "metadata": {
      "needs_background": "light"
     },
     "output_type": "display_data"
    }
   ],
   "source": [
    "t_values = np.linspace(-10,10,100)\n",
    "plt.plot(t_values,stats.t.pdf(t_values,n-1),\"b-\",label =\"T(n-1)\")\n",
    "upper_tval_tvalues = t_values[t_values>t_test]\n",
    "plt.fill_between(upper_tval_tvalues,0,stats.t.pdf(upper_tval_tvalues,n-1),alpha = .8,label=\"p-value\")\n",
    "plt.legend()"
   ]
  },
  {
   "cell_type": "markdown",
   "id": "8f0f31e7",
   "metadata": {},
   "source": [
    "## Pearson Correlation test"
   ]
  },
  {
   "cell_type": "code",
   "execution_count": 4,
   "id": "fb7b86a2",
   "metadata": {},
   "outputs": [
    {
     "name": "stdout",
     "output_type": "stream",
     "text": [
      "0.6820417199892743 4.928602428585132e-08\n"
     ]
    }
   ],
   "source": [
    "n= 50\n",
    "x = np.random.normal(size=n)\n",
    "y = 2+x+np.random.normal(size=n)\n",
    "\n",
    "cor,pval = stats.pearsonr(x,y)\n",
    "print(cor,pval)"
   ]
  },
  {
   "cell_type": "markdown",
   "id": "5b49c417",
   "metadata": {},
   "source": [
    "## Two sample(Student)-  t - test : compare two means"
   ]
  },
  {
   "cell_type": "code",
   "execution_count": 5,
   "id": "d56e8007",
   "metadata": {},
   "outputs": [
    {
     "name": "stdout",
     "output_type": "stream",
     "text": [
      "Ttest_indResult(statistic=3.5511519888466885, pvalue=0.00228208937112721)\n"
     ]
    }
   ],
   "source": [
    "height = np.array([ 1.83, 1.83, 1.73, 1.82, 1.83, 1.73, 1.99, 1.85, 1.68, 1.87,\n",
    "1.66, 1.71, 1.73, 1.64, 1.70, 1.60, 1.79, 1.73, 1.62, 1.77])\n",
    "grp = np.array([\"M\"] * 10 + [\"F\"] * 10)\n",
    "\n",
    "print(stats.ttest_ind(height[grp == \"M\"], height[grp == \"F\"], equal_var=True))"
   ]
  },
  {
   "cell_type": "markdown",
   "id": "b0ad880e",
   "metadata": {},
   "source": [
    "##   Chi-square\n"
   ]
  },
  {
   "cell_type": "code",
   "execution_count": 11,
   "id": "fd27f8c3",
   "metadata": {},
   "outputs": [
    {
     "name": "stdout",
     "output_type": "stream",
     "text": [
      "Observed table:\n",
      "---------------\n",
      "meta           0  1\n",
      "canalar_tumor      \n",
      "0              4  1\n",
      "1              2  8\n",
      "Statistics:\n",
      "-----------\n",
      "Chi2 = 2.812500, pval = 0.093533\n",
      "Expected table:\n",
      "---------------\n",
      "[[2. 3.]\n",
      " [4. 6.]]\n"
     ]
    }
   ],
   "source": [
    "canalar_tumor = np.array([1] * 10 + [0] * 5)\n",
    "meta = np.array([1] * 8 + [0] * 6 + [1])\n",
    "crosstab = pd.crosstab(canalar_tumor, meta, rownames=['canalar_tumor'], colnames=['meta'])\n",
    "print(\"Observed table:\")\n",
    "print(\"---------------\")\n",
    "print(crosstab)\n",
    "chi2, pval, dof, expected = stats.chi2_contingency(crosstab)\n",
    "print(\"Statistics:\")\n",
    "print(\"-----------\")\n",
    "print(\"Chi2 = %f, pval = %f\" % (chi2, pval))\n",
    "print(\"Expected table:\")\n",
    "print(\"---------------\")\n",
    "print(expected)\n"
   ]
  },
  {
   "cell_type": "code",
   "execution_count": 15,
   "id": "c362c536",
   "metadata": {},
   "outputs": [
    {
     "name": "stdout",
     "output_type": "stream",
     "text": [
      "[1 1 1 1 1 1 1 1 1 1 0 0 0 0 0]\n",
      "[1 1 1 1 1 1 1 1 0 0 0 0 0 0 1]\n"
     ]
    },
    {
     "data": {
      "text/html": [
       "<div>\n",
       "<style scoped>\n",
       "    .dataframe tbody tr th:only-of-type {\n",
       "        vertical-align: middle;\n",
       "    }\n",
       "\n",
       "    .dataframe tbody tr th {\n",
       "        vertical-align: top;\n",
       "    }\n",
       "\n",
       "    .dataframe thead th {\n",
       "        text-align: right;\n",
       "    }\n",
       "</style>\n",
       "<table border=\"1\" class=\"dataframe\">\n",
       "  <thead>\n",
       "    <tr style=\"text-align: right;\">\n",
       "      <th>meta</th>\n",
       "      <th>0</th>\n",
       "      <th>1</th>\n",
       "    </tr>\n",
       "    <tr>\n",
       "      <th>canalar_tumor</th>\n",
       "      <th></th>\n",
       "      <th></th>\n",
       "    </tr>\n",
       "  </thead>\n",
       "  <tbody>\n",
       "    <tr>\n",
       "      <th>0</th>\n",
       "      <td>4</td>\n",
       "      <td>1</td>\n",
       "    </tr>\n",
       "    <tr>\n",
       "      <th>1</th>\n",
       "      <td>2</td>\n",
       "      <td>8</td>\n",
       "    </tr>\n",
       "  </tbody>\n",
       "</table>\n",
       "</div>"
      ],
      "text/plain": [
       "meta           0  1\n",
       "canalar_tumor      \n",
       "0              4  1\n",
       "1              2  8"
      ]
     },
     "execution_count": 15,
     "metadata": {},
     "output_type": "execute_result"
    }
   ],
   "source": [
    "canalar_tumor = np.array([1] * 10 + [0] * 5)\n",
    "print(canalar_tumor)\n",
    "\n",
    "meta = np.array([1] * 8 + [0] * 6 + [1])\n",
    "print(meta)\n",
    "crosstab = pd.crosstab(canalar_tumor, meta, rownames=['canalar_tumor'], colnames=['meta'])\n",
    "crosstab"
   ]
  },
  {
   "cell_type": "code",
   "execution_count": 16,
   "id": "b66625ad",
   "metadata": {},
   "outputs": [
    {
     "name": "stdout",
     "output_type": "stream",
     "text": [
      "Canalar tumor frequency? Yes: 0.33 No: 0.67\n",
      "Metastasis frequency? Yes: 0.40 No: 0.60\n",
      "Expected frequencies:\n",
      "[[0.13333333 0.2       ]\n",
      " [0.26666667 0.4       ]]\n",
      "Expected cross-table (frequencies * N): \n",
      "[[2. 3.]\n",
      " [4. 6.]]\n"
     ]
    }
   ],
   "source": [
    "meta_marg = crosstab.sum(axis=0)\n",
    "meta_freq = meta_marg / meta_marg.sum()\n",
    "canalar_tumor_marg = crosstab.sum(axis=1)\n",
    "canalar_tumor_freq = canalar_tumor_marg / canalar_tumor_marg.sum()\n",
    "print('Canalar tumor frequency? Yes: %.2f' % canalar_tumor_freq[0], 'No: %.2f' %canalar_tumor_freq[1])\n",
    "print('Metastasis frequency? Yes: %.2f' % meta_freq[0], 'No: %.2f' % meta_freq[1])\n",
    "print('Expected frequencies:')\n",
    "print(np.outer(canalar_tumor_freq, meta_freq))\n",
    "print('Expected cross-table (frequencies * N): ')\n",
    "print(np.outer(canalar_tumor_freq, meta_freq) * len(canalar_tumor))\n",
    "\n"
   ]
  },
  {
   "cell_type": "code",
   "execution_count": 17,
   "id": "9ec66d1c",
   "metadata": {},
   "outputs": [],
   "source": []
  }
 ],
 "metadata": {
  "kernelspec": {
   "display_name": "Python 3 (ipykernel)",
   "language": "python",
   "name": "python3"
  },
  "language_info": {
   "codemirror_mode": {
    "name": "ipython",
    "version": 3
   },
   "file_extension": ".py",
   "mimetype": "text/x-python",
   "name": "python",
   "nbconvert_exporter": "python",
   "pygments_lexer": "ipython3",
   "version": "3.9.13"
  }
 },
 "nbformat": 4,
 "nbformat_minor": 5
}
