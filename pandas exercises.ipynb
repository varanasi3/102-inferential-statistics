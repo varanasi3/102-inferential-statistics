{
 "cells": [
  {
   "cell_type": "code",
   "execution_count": 1,
   "id": "9ac296ec",
   "metadata": {},
   "outputs": [],
   "source": [
    "import pandas as pd\n",
    "import numpy as np"
   ]
  },
  {
   "cell_type": "code",
   "execution_count": 2,
   "id": "9c209a3b",
   "metadata": {},
   "outputs": [
    {
     "data": {
      "text/html": [
       "<div>\n",
       "<style scoped>\n",
       "    .dataframe tbody tr th:only-of-type {\n",
       "        vertical-align: middle;\n",
       "    }\n",
       "\n",
       "    .dataframe tbody tr th {\n",
       "        vertical-align: top;\n",
       "    }\n",
       "\n",
       "    .dataframe thead th {\n",
       "        text-align: right;\n",
       "    }\n",
       "</style>\n",
       "<table border=\"1\" class=\"dataframe\">\n",
       "  <thead>\n",
       "    <tr style=\"text-align: right;\">\n",
       "      <th></th>\n",
       "      <th>Year</th>\n",
       "      <th>Month</th>\n",
       "      <th>Day of Month</th>\n",
       "      <th>Day Of Week</th>\n",
       "      <th>Dep Time</th>\n",
       "      <th>CRS Dep Time</th>\n",
       "      <th>Arr Time</th>\n",
       "      <th>CRSArrTime</th>\n",
       "      <th>Air Time</th>\n",
       "      <th>Origin</th>\n",
       "      <th>Dest</th>\n",
       "      <th>Distance</th>\n",
       "    </tr>\n",
       "  </thead>\n",
       "  <tbody>\n",
       "    <tr>\n",
       "      <th>0</th>\n",
       "      <td>2008</td>\n",
       "      <td>1</td>\n",
       "      <td>3</td>\n",
       "      <td>4</td>\n",
       "      <td>2003.0</td>\n",
       "      <td>1955</td>\n",
       "      <td>2211.0</td>\n",
       "      <td>2225</td>\n",
       "      <td>116.0</td>\n",
       "      <td>IAD</td>\n",
       "      <td>TPA</td>\n",
       "      <td>810</td>\n",
       "    </tr>\n",
       "    <tr>\n",
       "      <th>1</th>\n",
       "      <td>2008</td>\n",
       "      <td>1</td>\n",
       "      <td>3</td>\n",
       "      <td>4</td>\n",
       "      <td>754.0</td>\n",
       "      <td>735</td>\n",
       "      <td>1002.0</td>\n",
       "      <td>1000</td>\n",
       "      <td>113.0</td>\n",
       "      <td>IAD</td>\n",
       "      <td>TPA</td>\n",
       "      <td>810</td>\n",
       "    </tr>\n",
       "    <tr>\n",
       "      <th>2</th>\n",
       "      <td>2008</td>\n",
       "      <td>1</td>\n",
       "      <td>3</td>\n",
       "      <td>4</td>\n",
       "      <td>628.0</td>\n",
       "      <td>620</td>\n",
       "      <td>804.0</td>\n",
       "      <td>750</td>\n",
       "      <td>76.0</td>\n",
       "      <td>IND</td>\n",
       "      <td>BWI</td>\n",
       "      <td>515</td>\n",
       "    </tr>\n",
       "    <tr>\n",
       "      <th>3</th>\n",
       "      <td>2008</td>\n",
       "      <td>1</td>\n",
       "      <td>3</td>\n",
       "      <td>4</td>\n",
       "      <td>926.0</td>\n",
       "      <td>930</td>\n",
       "      <td>1054.0</td>\n",
       "      <td>1100</td>\n",
       "      <td>78.0</td>\n",
       "      <td>IND</td>\n",
       "      <td>BWI</td>\n",
       "      <td>515</td>\n",
       "    </tr>\n",
       "    <tr>\n",
       "      <th>4</th>\n",
       "      <td>2008</td>\n",
       "      <td>1</td>\n",
       "      <td>3</td>\n",
       "      <td>4</td>\n",
       "      <td>1829.0</td>\n",
       "      <td>1755</td>\n",
       "      <td>1959.0</td>\n",
       "      <td>1925</td>\n",
       "      <td>77.0</td>\n",
       "      <td>IND</td>\n",
       "      <td>BWI</td>\n",
       "      <td>515</td>\n",
       "    </tr>\n",
       "  </tbody>\n",
       "</table>\n",
       "</div>"
      ],
      "text/plain": [
       "   Year  Month  Day of Month  Day Of Week  Dep Time      CRS Dep Time  \\\n",
       "0  2008      1             3            4    2003.0              1955   \n",
       "1  2008      1             3            4     754.0               735   \n",
       "2  2008      1             3            4     628.0               620   \n",
       "3  2008      1             3            4     926.0               930   \n",
       "4  2008      1             3            4    1829.0              1755   \n",
       "\n",
       "   Arr Time       CRSArrTime  Air Time Origin Dest  Distance  \n",
       "0    2211.0             2225     116.0    IAD  TPA       810  \n",
       "1    1002.0             1000     113.0    IAD  TPA       810  \n",
       "2     804.0              750      76.0    IND  BWI       515  \n",
       "3    1054.0             1100      78.0    IND  BWI       515  \n",
       "4    1959.0             1925      77.0    IND  BWI       515  "
      ]
     },
     "execution_count": 2,
     "metadata": {},
     "output_type": "execute_result"
    }
   ],
   "source": [
    "df = pd.read_csv(\"airlines_usa.csv\")\n",
    "df.head()"
   ]
  },
  {
   "cell_type": "code",
   "execution_count": 3,
   "id": "4d26aacb",
   "metadata": {},
   "outputs": [
    {
     "data": {
      "text/html": [
       "<div>\n",
       "<style scoped>\n",
       "    .dataframe tbody tr th:only-of-type {\n",
       "        vertical-align: middle;\n",
       "    }\n",
       "\n",
       "    .dataframe tbody tr th {\n",
       "        vertical-align: top;\n",
       "    }\n",
       "\n",
       "    .dataframe thead th {\n",
       "        text-align: right;\n",
       "    }\n",
       "</style>\n",
       "<table border=\"1\" class=\"dataframe\">\n",
       "  <thead>\n",
       "    <tr style=\"text-align: right;\">\n",
       "      <th></th>\n",
       "      <th>Year</th>\n",
       "      <th>Month</th>\n",
       "      <th>Day of Month</th>\n",
       "      <th>Day Of Week</th>\n",
       "      <th>Dep Time</th>\n",
       "      <th>CRS Dep Time</th>\n",
       "      <th>Arr Time</th>\n",
       "      <th>CRSArrTime</th>\n",
       "      <th>Air Time</th>\n",
       "      <th>Origin</th>\n",
       "      <th>Dest</th>\n",
       "      <th>Distance</th>\n",
       "    </tr>\n",
       "  </thead>\n",
       "  <tbody>\n",
       "    <tr>\n",
       "      <th>49995</th>\n",
       "      <td>2008</td>\n",
       "      <td>1</td>\n",
       "      <td>18</td>\n",
       "      <td>5</td>\n",
       "      <td>1206.0</td>\n",
       "      <td>1200</td>\n",
       "      <td>1713.0</td>\n",
       "      <td>1705</td>\n",
       "      <td>172.0</td>\n",
       "      <td>LAX</td>\n",
       "      <td>HOU</td>\n",
       "      <td>1390</td>\n",
       "    </tr>\n",
       "    <tr>\n",
       "      <th>49996</th>\n",
       "      <td>2008</td>\n",
       "      <td>1</td>\n",
       "      <td>18</td>\n",
       "      <td>5</td>\n",
       "      <td>807.0</td>\n",
       "      <td>810</td>\n",
       "      <td>1306.0</td>\n",
       "      <td>1315</td>\n",
       "      <td>170.0</td>\n",
       "      <td>LAX</td>\n",
       "      <td>HOU</td>\n",
       "      <td>1390</td>\n",
       "    </tr>\n",
       "    <tr>\n",
       "      <th>49997</th>\n",
       "      <td>2008</td>\n",
       "      <td>1</td>\n",
       "      <td>18</td>\n",
       "      <td>5</td>\n",
       "      <td>1834.0</td>\n",
       "      <td>1815</td>\n",
       "      <td>1933.0</td>\n",
       "      <td>1920</td>\n",
       "      <td>45.0</td>\n",
       "      <td>LAX</td>\n",
       "      <td>LAS</td>\n",
       "      <td>236</td>\n",
       "    </tr>\n",
       "    <tr>\n",
       "      <th>49998</th>\n",
       "      <td>2008</td>\n",
       "      <td>1</td>\n",
       "      <td>18</td>\n",
       "      <td>5</td>\n",
       "      <td>725.0</td>\n",
       "      <td>725</td>\n",
       "      <td>821.0</td>\n",
       "      <td>825</td>\n",
       "      <td>42.0</td>\n",
       "      <td>LAX</td>\n",
       "      <td>LAS</td>\n",
       "      <td>236</td>\n",
       "    </tr>\n",
       "    <tr>\n",
       "      <th>49999</th>\n",
       "      <td>2008</td>\n",
       "      <td>1</td>\n",
       "      <td>18</td>\n",
       "      <td>5</td>\n",
       "      <td>1507.0</td>\n",
       "      <td>1500</td>\n",
       "      <td>1610.0</td>\n",
       "      <td>1605</td>\n",
       "      <td>48.0</td>\n",
       "      <td>LAX</td>\n",
       "      <td>LAS</td>\n",
       "      <td>236</td>\n",
       "    </tr>\n",
       "  </tbody>\n",
       "</table>\n",
       "</div>"
      ],
      "text/plain": [
       "       Year  Month  Day of Month  Day Of Week  Dep Time      CRS Dep Time  \\\n",
       "49995  2008      1            18            5    1206.0              1200   \n",
       "49996  2008      1            18            5     807.0               810   \n",
       "49997  2008      1            18            5    1834.0              1815   \n",
       "49998  2008      1            18            5     725.0               725   \n",
       "49999  2008      1            18            5    1507.0              1500   \n",
       "\n",
       "       Arr Time       CRSArrTime  Air Time Origin Dest  Distance  \n",
       "49995    1713.0             1705     172.0    LAX  HOU      1390  \n",
       "49996    1306.0             1315     170.0    LAX  HOU      1390  \n",
       "49997    1933.0             1920      45.0    LAX  LAS       236  \n",
       "49998     821.0              825      42.0    LAX  LAS       236  \n",
       "49999    1610.0             1605      48.0    LAX  LAS       236  "
      ]
     },
     "execution_count": 3,
     "metadata": {},
     "output_type": "execute_result"
    }
   ],
   "source": [
    "df.tail()"
   ]
  },
  {
   "cell_type": "code",
   "execution_count": 4,
   "id": "701f739f",
   "metadata": {},
   "outputs": [
    {
     "data": {
      "text/html": [
       "<div>\n",
       "<style scoped>\n",
       "    .dataframe tbody tr th:only-of-type {\n",
       "        vertical-align: middle;\n",
       "    }\n",
       "\n",
       "    .dataframe tbody tr th {\n",
       "        vertical-align: top;\n",
       "    }\n",
       "\n",
       "    .dataframe thead th {\n",
       "        text-align: right;\n",
       "    }\n",
       "</style>\n",
       "<table border=\"1\" class=\"dataframe\">\n",
       "  <thead>\n",
       "    <tr style=\"text-align: right;\">\n",
       "      <th></th>\n",
       "      <th>Year</th>\n",
       "      <th>Month</th>\n",
       "      <th>Day of Month</th>\n",
       "      <th>Day Of Week</th>\n",
       "      <th>Dep Time</th>\n",
       "      <th>CRS Dep Time</th>\n",
       "      <th>Arr Time</th>\n",
       "      <th>CRSArrTime</th>\n",
       "      <th>Air Time</th>\n",
       "      <th>Origin</th>\n",
       "      <th>Dest</th>\n",
       "      <th>Distance</th>\n",
       "    </tr>\n",
       "  </thead>\n",
       "  <tbody>\n",
       "    <tr>\n",
       "      <th>0</th>\n",
       "      <td>2008</td>\n",
       "      <td>1</td>\n",
       "      <td>3</td>\n",
       "      <td>4</td>\n",
       "      <td>2003.0</td>\n",
       "      <td>1955</td>\n",
       "      <td>2211.0</td>\n",
       "      <td>2225</td>\n",
       "      <td>116.0</td>\n",
       "      <td>IAD</td>\n",
       "      <td>TPA</td>\n",
       "      <td>810</td>\n",
       "    </tr>\n",
       "    <tr>\n",
       "      <th>1</th>\n",
       "      <td>2008</td>\n",
       "      <td>1</td>\n",
       "      <td>3</td>\n",
       "      <td>4</td>\n",
       "      <td>754.0</td>\n",
       "      <td>735</td>\n",
       "      <td>1002.0</td>\n",
       "      <td>1000</td>\n",
       "      <td>113.0</td>\n",
       "      <td>IAD</td>\n",
       "      <td>TPA</td>\n",
       "      <td>810</td>\n",
       "    </tr>\n",
       "    <tr>\n",
       "      <th>2</th>\n",
       "      <td>2008</td>\n",
       "      <td>1</td>\n",
       "      <td>3</td>\n",
       "      <td>4</td>\n",
       "      <td>628.0</td>\n",
       "      <td>620</td>\n",
       "      <td>804.0</td>\n",
       "      <td>750</td>\n",
       "      <td>76.0</td>\n",
       "      <td>IND</td>\n",
       "      <td>BWI</td>\n",
       "      <td>515</td>\n",
       "    </tr>\n",
       "    <tr>\n",
       "      <th>3</th>\n",
       "      <td>2008</td>\n",
       "      <td>1</td>\n",
       "      <td>3</td>\n",
       "      <td>4</td>\n",
       "      <td>926.0</td>\n",
       "      <td>930</td>\n",
       "      <td>1054.0</td>\n",
       "      <td>1100</td>\n",
       "      <td>78.0</td>\n",
       "      <td>IND</td>\n",
       "      <td>BWI</td>\n",
       "      <td>515</td>\n",
       "    </tr>\n",
       "    <tr>\n",
       "      <th>4</th>\n",
       "      <td>2008</td>\n",
       "      <td>1</td>\n",
       "      <td>3</td>\n",
       "      <td>4</td>\n",
       "      <td>1829.0</td>\n",
       "      <td>1755</td>\n",
       "      <td>1959.0</td>\n",
       "      <td>1925</td>\n",
       "      <td>77.0</td>\n",
       "      <td>IND</td>\n",
       "      <td>BWI</td>\n",
       "      <td>515</td>\n",
       "    </tr>\n",
       "    <tr>\n",
       "      <th>...</th>\n",
       "      <td>...</td>\n",
       "      <td>...</td>\n",
       "      <td>...</td>\n",
       "      <td>...</td>\n",
       "      <td>...</td>\n",
       "      <td>...</td>\n",
       "      <td>...</td>\n",
       "      <td>...</td>\n",
       "      <td>...</td>\n",
       "      <td>...</td>\n",
       "      <td>...</td>\n",
       "      <td>...</td>\n",
       "    </tr>\n",
       "    <tr>\n",
       "      <th>49995</th>\n",
       "      <td>2008</td>\n",
       "      <td>1</td>\n",
       "      <td>18</td>\n",
       "      <td>5</td>\n",
       "      <td>1206.0</td>\n",
       "      <td>1200</td>\n",
       "      <td>1713.0</td>\n",
       "      <td>1705</td>\n",
       "      <td>172.0</td>\n",
       "      <td>LAX</td>\n",
       "      <td>HOU</td>\n",
       "      <td>1390</td>\n",
       "    </tr>\n",
       "    <tr>\n",
       "      <th>49996</th>\n",
       "      <td>2008</td>\n",
       "      <td>1</td>\n",
       "      <td>18</td>\n",
       "      <td>5</td>\n",
       "      <td>807.0</td>\n",
       "      <td>810</td>\n",
       "      <td>1306.0</td>\n",
       "      <td>1315</td>\n",
       "      <td>170.0</td>\n",
       "      <td>LAX</td>\n",
       "      <td>HOU</td>\n",
       "      <td>1390</td>\n",
       "    </tr>\n",
       "    <tr>\n",
       "      <th>49997</th>\n",
       "      <td>2008</td>\n",
       "      <td>1</td>\n",
       "      <td>18</td>\n",
       "      <td>5</td>\n",
       "      <td>1834.0</td>\n",
       "      <td>1815</td>\n",
       "      <td>1933.0</td>\n",
       "      <td>1920</td>\n",
       "      <td>45.0</td>\n",
       "      <td>LAX</td>\n",
       "      <td>LAS</td>\n",
       "      <td>236</td>\n",
       "    </tr>\n",
       "    <tr>\n",
       "      <th>49998</th>\n",
       "      <td>2008</td>\n",
       "      <td>1</td>\n",
       "      <td>18</td>\n",
       "      <td>5</td>\n",
       "      <td>725.0</td>\n",
       "      <td>725</td>\n",
       "      <td>821.0</td>\n",
       "      <td>825</td>\n",
       "      <td>42.0</td>\n",
       "      <td>LAX</td>\n",
       "      <td>LAS</td>\n",
       "      <td>236</td>\n",
       "    </tr>\n",
       "    <tr>\n",
       "      <th>49999</th>\n",
       "      <td>2008</td>\n",
       "      <td>1</td>\n",
       "      <td>18</td>\n",
       "      <td>5</td>\n",
       "      <td>1507.0</td>\n",
       "      <td>1500</td>\n",
       "      <td>1610.0</td>\n",
       "      <td>1605</td>\n",
       "      <td>48.0</td>\n",
       "      <td>LAX</td>\n",
       "      <td>LAS</td>\n",
       "      <td>236</td>\n",
       "    </tr>\n",
       "  </tbody>\n",
       "</table>\n",
       "<p>50000 rows × 12 columns</p>\n",
       "</div>"
      ],
      "text/plain": [
       "       Year  Month  Day of Month  Day Of Week  Dep Time      CRS Dep Time  \\\n",
       "0      2008      1             3            4    2003.0              1955   \n",
       "1      2008      1             3            4     754.0               735   \n",
       "2      2008      1             3            4     628.0               620   \n",
       "3      2008      1             3            4     926.0               930   \n",
       "4      2008      1             3            4    1829.0              1755   \n",
       "...     ...    ...           ...          ...       ...               ...   \n",
       "49995  2008      1            18            5    1206.0              1200   \n",
       "49996  2008      1            18            5     807.0               810   \n",
       "49997  2008      1            18            5    1834.0              1815   \n",
       "49998  2008      1            18            5     725.0               725   \n",
       "49999  2008      1            18            5    1507.0              1500   \n",
       "\n",
       "       Arr Time       CRSArrTime  Air Time Origin Dest  Distance  \n",
       "0        2211.0             2225     116.0    IAD  TPA       810  \n",
       "1        1002.0             1000     113.0    IAD  TPA       810  \n",
       "2         804.0              750      76.0    IND  BWI       515  \n",
       "3        1054.0             1100      78.0    IND  BWI       515  \n",
       "4        1959.0             1925      77.0    IND  BWI       515  \n",
       "...         ...              ...       ...    ...  ...       ...  \n",
       "49995    1713.0             1705     172.0    LAX  HOU      1390  \n",
       "49996    1306.0             1315     170.0    LAX  HOU      1390  \n",
       "49997    1933.0             1920      45.0    LAX  LAS       236  \n",
       "49998     821.0              825      42.0    LAX  LAS       236  \n",
       "49999    1610.0             1605      48.0    LAX  LAS       236  \n",
       "\n",
       "[50000 rows x 12 columns]"
      ]
     },
     "execution_count": 4,
     "metadata": {},
     "output_type": "execute_result"
    }
   ],
   "source": [
    "df.sort_index()"
   ]
  },
  {
   "cell_type": "code",
   "execution_count": 5,
   "id": "777f1e26",
   "metadata": {},
   "outputs": [
    {
     "name": "stdout",
     "output_type": "stream",
     "text": [
      "0         True\n",
      "1         True\n",
      "2         True\n",
      "3         True\n",
      "4         True\n",
      "         ...  \n",
      "49995     True\n",
      "49996     True\n",
      "49997    False\n",
      "49998    False\n",
      "49999    False\n",
      "Name: Distance, Length: 50000, dtype: bool\n"
     ]
    }
   ],
   "source": [
    "print(df.Distance > 500)"
   ]
  },
  {
   "cell_type": "code",
   "execution_count": 6,
   "id": "95027193",
   "metadata": {},
   "outputs": [
    {
     "name": "stdout",
     "output_type": "stream",
     "text": [
      "{'a': 0, 'b': 1, 'c': 2, 'e': 3, 'd': 4, 'f': 5, 'g': 6, 'h': 7, 'i': 8, 'j': 9, 'k': 10, 'l': 11, 'm': 12, 'n': 13, 'o': 14, 'p': 15, 'q': 16, 'r': 17, 's': 18, 't': 19, 'u': 20, 'v': 21, 'w': 22, 'x': 23, 'y': 24, 'z': 25}\n"
     ]
    }
   ],
   "source": [
    "mylist = list('abcedfghijklmnopqrstuvwxyz')\n",
    "myarr = np.arange(26)\n",
    "mydict = dict(zip(mylist, myarr))\n",
    "print(mydict)"
   ]
  },
  {
   "cell_type": "code",
   "execution_count": 7,
   "id": "3cfe2c0a",
   "metadata": {},
   "outputs": [
    {
     "name": "stdout",
     "output_type": "stream",
     "text": [
      "a     0\n",
      "b     1\n",
      "c     2\n",
      "e     3\n",
      "d     4\n",
      "f     5\n",
      "g     6\n",
      "h     7\n",
      "i     8\n",
      "j     9\n",
      "k    10\n",
      "l    11\n",
      "m    12\n",
      "n    13\n",
      "o    14\n",
      "p    15\n",
      "q    16\n",
      "r    17\n",
      "s    18\n",
      "t    19\n",
      "u    20\n",
      "v    21\n",
      "w    22\n",
      "x    23\n",
      "y    24\n",
      "z    25\n",
      "dtype: int32\n"
     ]
    }
   ],
   "source": [
    "mylist = list('abcedfghijklmnopqrstuvwxyz')\n",
    "myarr = np.arange(26)\n",
    "mydict = dict(zip(mylist, myarr))\n",
    "ser = pd.Series(mydict)\n",
    "print(ser)"
   ]
  },
  {
   "cell_type": "code",
   "execution_count": 8,
   "id": "af7b704e",
   "metadata": {},
   "outputs": [
    {
     "data": {
      "text/plain": [
       "0    1\n",
       "1    2\n",
       "2    3\n",
       "dtype: int64"
      ]
     },
     "execution_count": 8,
     "metadata": {},
     "output_type": "execute_result"
    }
   ],
   "source": [
    "ser1 = pd.Series([1, 2, 3, 4, 5])\n",
    "ser2 = pd.Series([4, 5, 6, 7, 8])\n",
    "\n",
    "ser3 = ser1[~ser1.isin(ser2)]#items of serA not present in ser B\n",
    "ser3"
   ]
  },
  {
   "cell_type": "code",
   "execution_count": 9,
   "id": "6dbc1867",
   "metadata": {},
   "outputs": [
    {
     "data": {
      "text/plain": [
       "0    1\n",
       "1    2\n",
       "2    3\n",
       "5    6\n",
       "6    7\n",
       "7    8\n",
       "dtype: int64"
      ]
     },
     "execution_count": 9,
     "metadata": {},
     "output_type": "execute_result"
    }
   ],
   "source": [
    "ser1 = pd.Series([1, 2, 3, 4, 5])\n",
    "ser2 = pd.Series([4, 5, 6, 7, 8])\n",
    "\n",
    "# items not common to both serA and serB\n",
    "\n",
    "ser3 = pd.Series(np.union1d(ser1, ser2))\n",
    "ser4 = pd.Series(np.intersect1d(ser1, ser2))\n",
    "\n",
    "ser5 = ser3[~ser3.isin(ser4)]\n",
    "ser5"
   ]
  },
  {
   "cell_type": "markdown",
   "id": "59dba9dd",
   "metadata": {},
   "source": [
    "### 8. How to get the minimum, 25th percentile, median, 75th, and max of a numeric series?"
   ]
  },
  {
   "cell_type": "code",
   "execution_count": 10,
   "id": "4fd3ac47",
   "metadata": {},
   "outputs": [
    {
     "name": "stdout",
     "output_type": "stream",
     "text": [
      "0      7.712609\n",
      "1     12.599844\n",
      "2     11.119312\n",
      "3     17.459431\n",
      "4      3.303957\n",
      "5     16.633194\n",
      "6     10.838486\n",
      "7     14.661072\n",
      "8      9.630698\n",
      "9      6.781719\n",
      "10     4.133583\n",
      "11    17.151311\n",
      "12     7.152233\n",
      "13    13.459106\n",
      "14    16.351705\n",
      "15    12.885690\n",
      "16     9.924736\n",
      "17    21.104297\n",
      "18    12.966848\n",
      "19     9.478379\n",
      "20    18.429277\n",
      "21    15.962970\n",
      "22    17.235991\n",
      "23     8.331310\n",
      "24     5.733028\n",
      "dtype: float64\n",
      "[ 3.3039567   8.33131015 12.59984408 16.35170456 21.10429684]\n"
     ]
    }
   ],
   "source": [
    "ser = pd.Series(np.random.normal(10,5,25))\n",
    "print(ser)\n",
    "\n",
    "print(np.percentile(ser , q=[0,25,50,75,100]))"
   ]
  },
  {
   "cell_type": "markdown",
   "id": "0e67986c",
   "metadata": {},
   "source": [
    "### 9. How to get frequency counts of unique items of a series?"
   ]
  },
  {
   "cell_type": "code",
   "execution_count": 11,
   "id": "14d3b865",
   "metadata": {},
   "outputs": [
    {
     "name": "stdout",
     "output_type": "stream",
     "text": [
      "0     f\n",
      "1     a\n",
      "2     g\n",
      "3     c\n",
      "4     f\n",
      "5     b\n",
      "6     f\n",
      "7     g\n",
      "8     a\n",
      "9     c\n",
      "10    a\n",
      "11    b\n",
      "12    g\n",
      "13    d\n",
      "14    d\n",
      "15    b\n",
      "16    b\n",
      "17    h\n",
      "18    g\n",
      "19    g\n",
      "20    c\n",
      "21    d\n",
      "22    a\n",
      "23    d\n",
      "24    e\n",
      "25    f\n",
      "26    d\n",
      "27    d\n",
      "28    f\n",
      "29    b\n",
      "dtype: object\n"
     ]
    },
    {
     "data": {
      "text/plain": [
       "d    6\n",
       "f    5\n",
       "g    5\n",
       "b    5\n",
       "a    4\n",
       "c    3\n",
       "h    1\n",
       "e    1\n",
       "dtype: int64"
      ]
     },
     "execution_count": 11,
     "metadata": {},
     "output_type": "execute_result"
    }
   ],
   "source": [
    "ser = pd.Series(np.take(list('abcdefgh'), np.random.randint(8, size=30)))\n",
    "\n",
    "print(ser)\n",
    "\n",
    "ser.value_counts()"
   ]
  },
  {
   "cell_type": "markdown",
   "id": "65310b99",
   "metadata": {},
   "source": [
    "### 10. How to keep only top 2 most frequent values as it is and replace everything else as ‘Other’?"
   ]
  },
  {
   "cell_type": "code",
   "execution_count": 12,
   "id": "2843565c",
   "metadata": {},
   "outputs": [
    {
     "name": "stdout",
     "output_type": "stream",
     "text": [
      "0     6\n",
      "1     7\n",
      "2     7\n",
      "3     1\n",
      "4     2\n",
      "5     0\n",
      "6     7\n",
      "7     0\n",
      "8     7\n",
      "9     3\n",
      "10    4\n",
      "11    5\n",
      "12    5\n",
      "13    8\n",
      "14    2\n",
      "15    4\n",
      "16    0\n",
      "17    2\n",
      "dtype: int32\n",
      "Top 2 Freq: 7    4\n",
      "2    3\n",
      "0    3\n",
      "4    2\n",
      "5    2\n",
      "6    1\n",
      "1    1\n",
      "3    1\n",
      "8    1\n",
      "dtype: int64\n"
     ]
    },
    {
     "data": {
      "text/plain": [
       "0     Other\n",
       "1         7\n",
       "2         7\n",
       "3     Other\n",
       "4         2\n",
       "5     Other\n",
       "6         7\n",
       "7     Other\n",
       "8         7\n",
       "9     Other\n",
       "10    Other\n",
       "11    Other\n",
       "12    Other\n",
       "13    Other\n",
       "14        2\n",
       "15    Other\n",
       "16    Other\n",
       "17        2\n",
       "dtype: object"
      ]
     },
     "execution_count": 12,
     "metadata": {},
     "output_type": "execute_result"
    }
   ],
   "source": [
    "np.random.RandomState(100)\n",
    "ser = pd.Series(np.random.randint(0,9,[18]))\n",
    "print(ser)\n",
    "\n",
    "print(\"Top 2 Freq:\", ser.value_counts())\n",
    "ser[~ser.isin(ser.value_counts().index[:2])] =\"Other\"\n",
    "ser\n"
   ]
  },
  {
   "cell_type": "markdown",
   "id": "e5a900d5",
   "metadata": {},
   "source": [
    "### 11. How to bin a numeric series to 10 groups of equal size?"
   ]
  },
  {
   "cell_type": "code",
   "execution_count": 13,
   "id": "a0183f20",
   "metadata": {},
   "outputs": [
    {
     "data": {
      "text/plain": [
       "0    3rd\n",
       "1    4th\n",
       "2    7th\n",
       "3    7th\n",
       "4    1st\n",
       "dtype: category\n",
       "Categories (10, object): ['1st' < '2nd' < '3rd' < '4th' ... '7th' < '8th' < '9th' < '10th']"
      ]
     },
     "execution_count": 13,
     "metadata": {},
     "output_type": "execute_result"
    }
   ],
   "source": [
    "ser = pd.Series(np.random.random(20))\n",
    "ser\n",
    "\n",
    "pd.qcut(ser, q=[0, .10, .20, .3, .4, .5, .6, .7, .8, .9, 1], \n",
    "        labels=['1st', '2nd', '3rd', '4th', '5th', '6th', '7th', '8th', '9th', '10th']).head()"
   ]
  },
  {
   "cell_type": "markdown",
   "id": "143aa27e",
   "metadata": {},
   "source": [
    "### 12. How to convert a numpy array to a dataframe of given shape? (L1)"
   ]
  },
  {
   "cell_type": "code",
   "execution_count": 14,
   "id": "dd80eb5d",
   "metadata": {},
   "outputs": [
    {
     "name": "stdout",
     "output_type": "stream",
     "text": [
      "0     2\n",
      "1     2\n",
      "2     6\n",
      "3     1\n",
      "4     8\n",
      "5     1\n",
      "6     3\n",
      "7     8\n",
      "8     3\n",
      "9     8\n",
      "10    2\n",
      "11    4\n",
      "12    3\n",
      "13    3\n",
      "14    1\n",
      "15    4\n",
      "16    9\n",
      "17    5\n",
      "18    6\n",
      "19    2\n",
      "20    1\n",
      "21    2\n",
      "22    2\n",
      "23    2\n",
      "24    5\n",
      "25    3\n",
      "26    7\n",
      "27    8\n",
      "28    4\n",
      "29    2\n",
      "30    7\n",
      "31    7\n",
      "32    5\n",
      "33    7\n",
      "34    5\n",
      "dtype: int32\n",
      "   0  1  2  3  4\n",
      "0  2  2  6  1  8\n",
      "1  1  3  8  3  8\n",
      "2  2  4  3  3  1\n",
      "3  4  9  5  6  2\n",
      "4  1  2  2  2  5\n",
      "5  3  7  8  4  2\n",
      "6  7  7  5  7  5\n"
     ]
    }
   ],
   "source": [
    "ser = pd.Series(np.random.randint(1,10,35))\n",
    "print(ser)\n",
    "\n",
    "df = pd.DataFrame(ser.values.reshape(7,5))\n",
    "print(df)"
   ]
  },
  {
   "cell_type": "markdown",
   "id": "b794b38c",
   "metadata": {},
   "source": [
    " ### 13. How to find the positions of numbers that are multiples of 3 from a series?"
   ]
  },
  {
   "cell_type": "code",
   "execution_count": 15,
   "id": "974da51b",
   "metadata": {},
   "outputs": [
    {
     "name": "stdout",
     "output_type": "stream",
     "text": [
      "0     65\n",
      "1     96\n",
      "2     23\n",
      "3     23\n",
      "4     20\n",
      "5     64\n",
      "6     40\n",
      "7     68\n",
      "8     63\n",
      "9     19\n",
      "10    54\n",
      "11    54\n",
      "12    61\n",
      "13     8\n",
      "14    61\n",
      "15    95\n",
      "16    98\n",
      "17    59\n",
      "18    30\n",
      "19    98\n",
      "dtype: int32\n",
      "1\n",
      "8\n",
      "10\n",
      "11\n",
      "18\n"
     ]
    }
   ],
   "source": [
    "ser = pd.Series(np.random.randint(1,100,20))\n",
    "print(ser)\n",
    "for i in range(len(ser)):\n",
    "    if ser[i] % 3 ==0:\n",
    "        print(i)"
   ]
  },
  {
   "cell_type": "code",
   "execution_count": null,
   "id": "991e11b6",
   "metadata": {},
   "outputs": [],
   "source": []
  },
  {
   "cell_type": "code",
   "execution_count": 16,
   "id": "6a1bb859",
   "metadata": {},
   "outputs": [
    {
     "data": {
      "text/plain": [
       "0     j\n",
       "6     d\n",
       "4     g\n",
       "6     d\n",
       "23    g\n",
       "dtype: object"
      ]
     },
     "execution_count": 16,
     "metadata": {},
     "output_type": "execute_result"
    }
   ],
   "source": [
    "ser = pd.Series(list('jhgjghdhglhjflsghjjkhuhgjkf'))\n",
    "\n",
    "pos = [0,6,4,6,23]\n",
    "ser.take(pos)\n"
   ]
  },
  {
   "cell_type": "markdown",
   "id": "a3f7b9e2",
   "metadata": {},
   "source": [
    "### 15. How to stack two series vertically and horizontally ?"
   ]
  },
  {
   "cell_type": "code",
   "execution_count": 17,
   "id": "97944a52",
   "metadata": {},
   "outputs": [
    {
     "name": "stdout",
     "output_type": "stream",
     "text": [
      "0    0\n",
      "1    1\n",
      "2    2\n",
      "3    3\n",
      "4    4\n",
      "0    a\n",
      "1    b\n",
      "2    c\n",
      "3    d\n",
      "4    e\n",
      "dtype: object\n",
      "   0  1\n",
      "0  0  a\n",
      "1  1  b\n",
      "2  2  c\n",
      "3  3  d\n",
      "4  4  e\n"
     ]
    },
    {
     "name": "stderr",
     "output_type": "stream",
     "text": [
      "C:\\Users\\Msc 1\\AppData\\Local\\Temp\\ipykernel_12268\\3504814278.py:4: FutureWarning: The series.append method is deprecated and will be removed from pandas in a future version. Use pandas.concat instead.\n",
      "  print(ser1.append(ser2))\n"
     ]
    }
   ],
   "source": [
    "ser1 = pd.Series(range(5))\n",
    "ser2 = pd.Series(list(\"abcde\"))\n",
    "\n",
    "print(ser1.append(ser2))\n",
    "\n",
    "df = pd.concat([ser1,ser2],axis=1)\n",
    "print(df)"
   ]
  },
  {
   "cell_type": "markdown",
   "id": "e6e9eb32",
   "metadata": {},
   "source": [
    "### 16. How to get the positions of items of series A in another series B?"
   ]
  },
  {
   "cell_type": "code",
   "execution_count": 18,
   "id": "1d1efa25",
   "metadata": {},
   "outputs": [],
   "source": [
    "ser1 = pd.Series([10,9,6,5,1,12,8,13])\n",
    "ser2 = pd.Series([1,3,10,13])\n",
    "\n",
    "\n",
    "\n"
   ]
  },
  {
   "cell_type": "markdown",
   "id": "edca071a",
   "metadata": {},
   "source": [
    "### 17. How to compute the mean squared error on a truth and predicted series?"
   ]
  },
  {
   "cell_type": "code",
   "execution_count": 19,
   "id": "fbe3c526",
   "metadata": {},
   "outputs": [
    {
     "name": "stdout",
     "output_type": "stream",
     "text": [
      "0    0\n",
      "1    1\n",
      "2    2\n",
      "3    3\n",
      "4    4\n",
      "5    5\n",
      "6    6\n",
      "7    7\n",
      "8    8\n",
      "9    9\n",
      "dtype: int64\n",
      "0    0.537445\n",
      "1    1.149564\n",
      "2    2.310597\n",
      "3    3.439316\n",
      "4    4.210579\n",
      "5    5.637480\n",
      "6    6.868130\n",
      "7    7.944909\n",
      "8    8.313677\n",
      "9    9.400185\n",
      "dtype: float64\n"
     ]
    },
    {
     "data": {
      "text/plain": [
       "0.29564531961378593"
      ]
     },
     "execution_count": 19,
     "metadata": {},
     "output_type": "execute_result"
    }
   ],
   "source": [
    "truth = pd.Series(range(10))\n",
    "print(truth)\n",
    "pred = pd.Series(range(10))+np.random.random(10)\n",
    "print(pred)\n",
    "\n",
    "np.mean((truth-pred)**2)"
   ]
  },
  {
   "cell_type": "markdown",
   "id": "92dc276d",
   "metadata": {},
   "source": [
    "### 18. How to convert the first character of each element in a series to uppercase?"
   ]
  },
  {
   "cell_type": "code",
   "execution_count": 20,
   "id": "e06af509",
   "metadata": {},
   "outputs": [
    {
     "name": "stdout",
     "output_type": "stream",
     "text": [
      "0     om\n",
      "1    sri\n",
      "2    sai\n",
      "3    ram\n",
      "dtype: object\n"
     ]
    },
    {
     "data": {
      "text/plain": [
       "0     Om\n",
       "1    Sri\n",
       "2    Sai\n",
       "3    Ram\n",
       "dtype: object"
      ]
     },
     "execution_count": 20,
     "metadata": {},
     "output_type": "execute_result"
    }
   ],
   "source": [
    "ser = pd.Series([\"om\",\"sri\",\"sai\",\"ram\"])\n",
    "print(ser)\n",
    "\n",
    "ser.map(lambda x: x.title())"
   ]
  },
  {
   "cell_type": "markdown",
   "id": "e738b497",
   "metadata": {},
   "source": [
    "### 19. How to calculate the number of characters in each word in a series?"
   ]
  },
  {
   "cell_type": "code",
   "execution_count": 21,
   "id": "f82f768c",
   "metadata": {},
   "outputs": [
    {
     "name": "stdout",
     "output_type": "stream",
     "text": [
      "0      om\n",
      "1     sri\n",
      "2     sai\n",
      "3    raam\n",
      "dtype: object\n"
     ]
    },
    {
     "data": {
      "text/plain": [
       "0    2\n",
       "1    3\n",
       "2    3\n",
       "3    4\n",
       "dtype: int64"
      ]
     },
     "execution_count": 21,
     "metadata": {},
     "output_type": "execute_result"
    }
   ],
   "source": [
    "ser = pd.Series([\"om\",\"sri\",\"sai\",\"raam\"])\n",
    "print(ser)\n",
    "\n",
    "ser.map(lambda x: len(x))"
   ]
  },
  {
   "cell_type": "markdown",
   "id": "68ca58ad",
   "metadata": {},
   "source": [
    "### 20. How to compute difference of differences between consequtive numbers of a series?"
   ]
  },
  {
   "cell_type": "code",
   "execution_count": 22,
   "id": "c9b8fab8",
   "metadata": {},
   "outputs": [
    {
     "name": "stdout",
     "output_type": "stream",
     "text": [
      "[nan, 42.0, -38.0, 71.0, 11.0, -78.0, 0.0, 47.0]\n",
      "[nan, nan, -80.0, 109.0, -60.0, -89.0, 78.0, 47.0]\n"
     ]
    }
   ],
   "source": [
    "ser = pd.Series([1,43,5,76,87,9,9,56])\n",
    "\n",
    "print(ser.diff().tolist())\n",
    "print(ser.diff().diff().tolist())"
   ]
  },
  {
   "cell_type": "markdown",
   "id": "a9ec3998",
   "metadata": {},
   "source": [
    "### 21. How to convert a series of date-strings to a timeseries?"
   ]
  },
  {
   "cell_type": "code",
   "execution_count": 23,
   "id": "414de288",
   "metadata": {
    "scrolled": true
   },
   "outputs": [
    {
     "name": "stdout",
     "output_type": "stream",
     "text": [
      "0         01 Jan 2010\n",
      "1          02-02-2011\n",
      "2            20120303\n",
      "3          2013/04/04\n",
      "4          2014-05-05\n",
      "5    2015-06-06T12:20\n",
      "dtype: object\n"
     ]
    },
    {
     "data": {
      "text/plain": [
       "0   2010-01-01 00:00:00\n",
       "1   2011-02-02 00:00:00\n",
       "2   2012-03-03 00:00:00\n",
       "3   2013-04-04 00:00:00\n",
       "4   2014-05-05 00:00:00\n",
       "5   2015-06-06 12:20:00\n",
       "dtype: datetime64[ns]"
      ]
     },
     "execution_count": 23,
     "metadata": {},
     "output_type": "execute_result"
    }
   ],
   "source": [
    "\n",
    "\n",
    "ser = pd.Series(['01 Jan 2010', '02-02-2011', '20120303', '2013/04/04', '2014-05-05', '2015-06-06T12:20'])\n",
    "print(ser)\n",
    "pd.to_datetime(ser)"
   ]
  },
  {
   "cell_type": "markdown",
   "id": "3427ca23",
   "metadata": {},
   "source": [
    "### 22. How to get the day of month, week number, day of year and day of week from a series of date strings?"
   ]
  },
  {
   "cell_type": "code",
   "execution_count": 24,
   "id": "b426cf56",
   "metadata": {},
   "outputs": [
    {
     "name": "stdout",
     "output_type": "stream",
     "text": [
      " date:  [9, 7, 3, 4, 5, 6]\n",
      " week :  [1, 36, 9, 14, 19, 23]\n",
      " day of year :     year  week  day\n",
      "0  2010     1    6\n",
      "1  2011    36    3\n",
      "2  2012     9    6\n",
      "3  2013    14    4\n",
      "4  2014    19    1\n",
      "5  2015    23    6\n"
     ]
    },
    {
     "name": "stderr",
     "output_type": "stream",
     "text": [
      "C:\\Users\\Msc 1\\AppData\\Local\\Temp\\ipykernel_12268\\989298836.py:8: FutureWarning: Series.dt.weekofyear and Series.dt.week have been deprecated. Please use Series.dt.isocalendar().week instead.\n",
      "  print(\" week : \",ser_ts.dt.weekofyear.tolist())\n"
     ]
    }
   ],
   "source": [
    "ser = pd.Series(['09 Jan 2010', '09-07-2011', '20120303', '2013/04/04', '2014-05-05', '2015-06-06T12:20'])\n",
    "\n",
    "\n",
    "from dateutil.parser import parse\n",
    "ser_ts = ser.map(lambda x : parse(x))\n",
    "\n",
    "print( \" date: \" , ser_ts.dt.day.tolist())\n",
    "print(\" week : \",ser_ts.dt.weekofyear.tolist())\n",
    "print(\" day of year : \",ser_ts.dt.isocalendar())\n",
    "\n"
   ]
  },
  {
   "cell_type": "markdown",
   "id": "5c8ce1e1",
   "metadata": {},
   "source": [
    "### 23. How to convert year-month string to dates corresponding to the 4th day of the month?"
   ]
  },
  {
   "cell_type": "code",
   "execution_count": 25,
   "id": "e62923fb",
   "metadata": {},
   "outputs": [
    {
     "data": {
      "text/plain": [
       "0   2019-01-04\n",
       "1   2022-10-04\n",
       "dtype: datetime64[ns]"
      ]
     },
     "execution_count": 25,
     "metadata": {},
     "output_type": "execute_result"
    }
   ],
   "source": [
    "ser = pd.Series([' Jan 2019',' October 2022'])\n",
    "\n",
    "# from dateutil.parser import parse\n",
    "# ser_ts = ser.map(lambda x : parse(x))\n",
    "# print(ser_ts.dt.isocalendar())\n",
    "\n",
    "# ser_datestr =  ser_ts.dt.year.astype('str') + '-' + ser_ts.dt.month.astype('str')+ '-'+'04'\n",
    "\n",
    "\n",
    "# [parse(i).strftime('%Y-%m-%d')  for i in ser_datestr]\n",
    "\n",
    "\n",
    "ser.map(lambda x : parse('04' + x))\n",
    "\n",
    "\n"
   ]
  },
  {
   "cell_type": "markdown",
   "id": "1378c23e",
   "metadata": {},
   "source": [
    "### 24. How to filter words that contain atleast 2 vowels from a series?"
   ]
  },
  {
   "cell_type": "code",
   "execution_count": 26,
   "id": "16381df5",
   "metadata": {},
   "outputs": [
    {
     "data": {
      "text/plain": [
       "0    Varanasi\n",
       "2       Kumar\n",
       "dtype: object"
      ]
     },
     "execution_count": 26,
     "metadata": {},
     "output_type": "execute_result"
    }
   ],
   "source": [
    "ser =  pd.Series(['Varanasi','Sa','Kumar'])\n",
    "\n",
    "\n",
    "\n",
    "from collections import Counter\n",
    "\n",
    "mask = ser.map(lambda x: sum([Counter(x.lower()).get(i, 0) for i in list('aeiou')  ])>=2)\n",
    "\n",
    "ser[mask]"
   ]
  },
  {
   "cell_type": "markdown",
   "id": "921a6992",
   "metadata": {},
   "source": [
    "### 25. How to filter valid emails from a series?"
   ]
  },
  {
   "cell_type": "code",
   "execution_count": 27,
   "id": "f4dba42b",
   "metadata": {},
   "outputs": [
    {
     "data": {
      "text/plain": [
       "0                     []\n",
       "1    [rameses@egypt.com]\n",
       "2            [matt@t.co]\n",
       "3    [narendra@modi.com]\n",
       "dtype: object"
      ]
     },
     "execution_count": 27,
     "metadata": {},
     "output_type": "execute_result"
    }
   ],
   "source": [
    "emails = pd.Series(['buying books at amazom.com', 'rameses@egypt.com', 'matt@t.co', 'narendra@modi.com'])\n",
    "pattern ='[A-Za-z0-9._%+-]+@[A-Za-z0-9.-]+\\\\.[A-Za-z]{2,4}'\n",
    "\n",
    "\n",
    "import re \n",
    "\n",
    "emails.str.findall(pattern, flags=re.IGNORECASE)\n",
    "\n"
   ]
  },
  {
   "cell_type": "markdown",
   "id": "10297fab",
   "metadata": {},
   "source": [
    "### 26. How to get the mean of a series grouped by another series?"
   ]
  },
  {
   "cell_type": "code",
   "execution_count": 28,
   "id": "425d738c",
   "metadata": {},
   "outputs": [
    {
     "name": "stdout",
     "output_type": "stream",
     "text": [
      "[1.0, 2.0, 3.0, 4.0, 5.0, 6.0, 7.0, 8.0, 9.0, 10.0]\n",
      "['apple', 'carrot', 'banana', 'apple', 'carrot', 'carrot', 'carrot', 'apple', 'banana', 'apple']\n"
     ]
    },
    {
     "data": {
      "text/plain": [
       "apple     5.75\n",
       "banana    6.00\n",
       "carrot    5.00\n",
       "dtype: float64"
      ]
     },
     "execution_count": 28,
     "metadata": {},
     "output_type": "execute_result"
    }
   ],
   "source": [
    "fruit = pd.Series(np.random.choice(['apple', 'banana', 'carrot'], 10))\n",
    "weight = pd.Series(np.linspace(1, 10, 10))\n",
    "print(weight.tolist())\n",
    "print(fruit.tolist())\n",
    "\n",
    "weight.groupby(fruit).mean()"
   ]
  },
  {
   "cell_type": "markdown",
   "id": "66fb8392",
   "metadata": {},
   "source": [
    "###  27. How to compute the euclidean distance between two series?"
   ]
  },
  {
   "cell_type": "code",
   "execution_count": 29,
   "id": "798e62b9",
   "metadata": {},
   "outputs": [
    {
     "data": {
      "text/plain": [
       "21.0"
      ]
     },
     "execution_count": 29,
     "metadata": {},
     "output_type": "execute_result"
    }
   ],
   "source": [
    "import math\n",
    "p  = pd.Series([1,23,4,56,7,3,2,2])\n",
    "q = pd.Series([1,2,4,56,7,3,2,2])\n",
    "\n",
    "sum((p-q)**2)**.5"
   ]
  },
  {
   "cell_type": "markdown",
   "id": "7510846e",
   "metadata": {},
   "source": [
    "### 28. How to find all the local maxima (or peaks) in a numeric series?"
   ]
  },
  {
   "cell_type": "code",
   "execution_count": 30,
   "id": "983ce270",
   "metadata": {},
   "outputs": [
    {
     "name": "stdout",
     "output_type": "stream",
     "text": [
      "[ 1 -1  1  1  1 -1  1 -1]\n",
      "[-2  2  0  0 -2  2 -2]\n"
     ]
    },
    {
     "data": {
      "text/plain": [
       "array([1, 5, 7], dtype=int64)"
      ]
     },
     "execution_count": 30,
     "metadata": {},
     "output_type": "execute_result"
    }
   ],
   "source": [
    "ser = pd.Series([2, 10, 3, 4, 9, 10, 2, 7, 3])\n",
    "\n",
    "dd = (np.sign(np.diff(ser)))\n",
    "print(dd)\n",
    "print(np.diff(dd))\n",
    "\n",
    "peak_locations = np.where(np.diff(dd) == -2)[0] + 1\n",
    "\n",
    "peak_locations"
   ]
  },
  {
   "cell_type": "markdown",
   "id": "e07ebd28",
   "metadata": {},
   "source": [
    "### 29. How to replace missing spaces in a string with the least frequent character?"
   ]
  },
  {
   "cell_type": "code",
   "execution_count": 31,
   "id": "8372f7df",
   "metadata": {},
   "outputs": [
    {
     "name": "stdout",
     "output_type": "stream",
     "text": [
      "0     d\n",
      "1     b\n",
      "2     c\n",
      "3      \n",
      "4     d\n",
      "5     e\n",
      "6     b\n",
      "7      \n",
      "8     a\n",
      "9     b\n",
      "10    e\n",
      "11    d\n",
      "12     \n",
      "13    g\n",
      "14    a\n",
      "15    d\n",
      "16    e\n",
      "dtype: object\n",
      "d    4\n",
      "b    3\n",
      "     3\n",
      "e    3\n",
      "a    2\n",
      "c    1\n",
      "g    1\n",
      "dtype: int64\n"
     ]
    },
    {
     "data": {
      "text/plain": [
       "'dbc deb abed gade'"
      ]
     },
     "execution_count": 31,
     "metadata": {},
     "output_type": "execute_result"
    }
   ],
   "source": [
    "stri =  \"abos ksds oihs\"\n",
    "\n",
    "ser  =  pd.Series(list('dbc deb abed gade'))\n",
    "print(ser)\n",
    "freq = ser.value_counts()\n",
    "print(freq)\n",
    "\n",
    "least_freq =  freq.dropna().index[-1]\n",
    "\n",
    "\"\".join(ser.replace('',least_freq))"
   ]
  },
  {
   "cell_type": "markdown",
   "id": "989a2d62",
   "metadata": {},
   "source": [
    "### 30. How to create a TimeSeries starting ‘2000-01-01’ and 10 weekends (saturdays) after that having random numbers as values?"
   ]
  },
  {
   "cell_type": "code",
   "execution_count": 32,
   "id": "5d5e52b3",
   "metadata": {},
   "outputs": [
    {
     "data": {
      "text/plain": [
       "2000-01-01    2\n",
       "2000-01-08    6\n",
       "2000-01-15    6\n",
       "2000-01-22    6\n",
       "2000-01-29    7\n",
       "2000-02-05    9\n",
       "2000-02-12    3\n",
       "2000-02-19    1\n",
       "2000-02-26    3\n",
       "2000-03-04    2\n",
       "Freq: W-SAT, dtype: int32"
      ]
     },
     "execution_count": 32,
     "metadata": {},
     "output_type": "execute_result"
    }
   ],
   "source": [
    "ser = pd.Series(np.random.randint(1,10,10), pd.date_range('2000-01-01', periods=10, freq='W-SAT'))\n",
    "ser"
   ]
  },
  {
   "cell_type": "markdown",
   "id": "62a2db06",
   "metadata": {},
   "source": [
    "### 31. How to fill an intermittent time series so all missing dates show up with values of previous non-missing date?"
   ]
  },
  {
   "cell_type": "code",
   "execution_count": 33,
   "id": "c4869a87",
   "metadata": {},
   "outputs": [
    {
     "name": "stdout",
     "output_type": "stream",
     "text": [
      "2000-01-01     1.0\n",
      "2000-01-03    10.0\n",
      "2000-01-06     3.0\n",
      "2000-01-08     NaN\n",
      "dtype: float64\n"
     ]
    },
    {
     "data": {
      "text/plain": [
       "2000-01-01     1.0\n",
       "2000-01-02     1.0\n",
       "2000-01-03    10.0\n",
       "2000-01-04    10.0\n",
       "2000-01-05    10.0\n",
       "2000-01-06     3.0\n",
       "2000-01-07     3.0\n",
       "2000-01-08     NaN\n",
       "Freq: D, dtype: float64"
      ]
     },
     "execution_count": 33,
     "metadata": {},
     "output_type": "execute_result"
    }
   ],
   "source": [
    "ser = pd.Series([1,10,3,np.nan], index=pd.to_datetime(['2000-01-01', '2000-01-03', '2000-01-06', '2000-01-08']))\n",
    "print(ser)\n",
    "\n",
    "ser.resample('D').ffill()"
   ]
  },
  {
   "cell_type": "markdown",
   "id": "0d3e002f",
   "metadata": {},
   "source": [
    "### 32. How to compute the autocorrelations of a numeric series?"
   ]
  },
  {
   "cell_type": "code",
   "execution_count": 34,
   "id": "290b9ab2",
   "metadata": {},
   "outputs": [
    {
     "name": "stdout",
     "output_type": "stream",
     "text": [
      "[0.2, 0.43, 0.4, 0.73, 0.25, 0.35, 0.16, 0.66, 0.06, 0.41]\n",
      "Lag having highest correlation:  4\n"
     ]
    }
   ],
   "source": [
    "ser = pd.Series(np.arange(20) + np.random.normal(1, 10, 20))\n",
    "ser\n",
    "\n",
    "autocorrelations = [ser.autocorr(i).round(2) for i in range(11)]\n",
    "print(autocorrelations[1:])\n",
    "print('Lag having highest correlation: ', np.argmax(np.abs(autocorrelations[1:]))+1)"
   ]
  },
  {
   "cell_type": "markdown",
   "id": "96f71094",
   "metadata": {},
   "source": [
    "### 33. How to import only every nth row from a csv file to create a dataframe?"
   ]
  },
  {
   "cell_type": "code",
   "execution_count": 35,
   "id": "c861e8f2",
   "metadata": {},
   "outputs": [
    {
     "name": "stdout",
     "output_type": "stream",
     "text": [
      "       Year  Month  Day of Month  Day Of Week  Dep Time      CRS Dep Time  \\\n",
      "0      2008      1             3            4    2003.0              1955   \n",
      "1      2008      1             3            4     754.0               735   \n",
      "2      2008      1             3            4     628.0               620   \n",
      "3      2008      1             3            4     926.0               930   \n",
      "4      2008      1             3            4    1829.0              1755   \n",
      "...     ...    ...           ...          ...       ...               ...   \n",
      "49995  2008      1            18            5    1206.0              1200   \n",
      "49996  2008      1            18            5     807.0               810   \n",
      "49997  2008      1            18            5    1834.0              1815   \n",
      "49998  2008      1            18            5     725.0               725   \n",
      "49999  2008      1            18            5    1507.0              1500   \n",
      "\n",
      "       Arr Time       CRSArrTime  Air Time Origin Dest  Distance  \n",
      "0        2211.0             2225     116.0    IAD  TPA       810  \n",
      "1        1002.0             1000     113.0    IAD  TPA       810  \n",
      "2         804.0              750      76.0    IND  BWI       515  \n",
      "3        1054.0             1100      78.0    IND  BWI       515  \n",
      "4        1959.0             1925      77.0    IND  BWI       515  \n",
      "...         ...              ...       ...    ...  ...       ...  \n",
      "49995    1713.0             1705     172.0    LAX  HOU      1390  \n",
      "49996    1306.0             1315     170.0    LAX  HOU      1390  \n",
      "49997    1933.0             1920      45.0    LAX  LAS       236  \n",
      "49998     821.0              825      42.0    LAX  LAS       236  \n",
      "49999    1610.0             1605      48.0    LAX  LAS       236  \n",
      "\n",
      "[50000 rows x 12 columns]\n"
     ]
    },
    {
     "data": {
      "text/html": [
       "<div>\n",
       "<style scoped>\n",
       "    .dataframe tbody tr th:only-of-type {\n",
       "        vertical-align: middle;\n",
       "    }\n",
       "\n",
       "    .dataframe tbody tr th {\n",
       "        vertical-align: top;\n",
       "    }\n",
       "\n",
       "    .dataframe thead th {\n",
       "        text-align: right;\n",
       "    }\n",
       "</style>\n",
       "<table border=\"1\" class=\"dataframe\">\n",
       "  <thead>\n",
       "    <tr style=\"text-align: right;\">\n",
       "      <th></th>\n",
       "    </tr>\n",
       "  </thead>\n",
       "  <tbody>\n",
       "  </tbody>\n",
       "</table>\n",
       "</div>"
      ],
      "text/plain": [
       "Empty DataFrame\n",
       "Columns: []\n",
       "Index: []"
      ]
     },
     "execution_count": 35,
     "metadata": {},
     "output_type": "execute_result"
    }
   ],
   "source": [
    "df = pd.read_csv('airlines_usa.csv')\n",
    "print(df)\n",
    "\n",
    "df2 = pd.DataFrame()\n",
    "df2\n",
    "\n"
   ]
  },
  {
   "cell_type": "markdown",
   "id": "66afa028",
   "metadata": {},
   "source": [
    "### 36. How to import only specified columns from a csv file?"
   ]
  },
  {
   "cell_type": "code",
   "execution_count": 38,
   "id": "b0e25903",
   "metadata": {},
   "outputs": [
    {
     "data": {
      "text/html": [
       "<div>\n",
       "<style scoped>\n",
       "    .dataframe tbody tr th:only-of-type {\n",
       "        vertical-align: middle;\n",
       "    }\n",
       "\n",
       "    .dataframe tbody tr th {\n",
       "        vertical-align: top;\n",
       "    }\n",
       "\n",
       "    .dataframe thead th {\n",
       "        text-align: right;\n",
       "    }\n",
       "</style>\n",
       "<table border=\"1\" class=\"dataframe\">\n",
       "  <thead>\n",
       "    <tr style=\"text-align: right;\">\n",
       "      <th></th>\n",
       "      <th>Year</th>\n",
       "      <th>Month</th>\n",
       "    </tr>\n",
       "  </thead>\n",
       "  <tbody>\n",
       "    <tr>\n",
       "      <th>0</th>\n",
       "      <td>2008</td>\n",
       "      <td>1</td>\n",
       "    </tr>\n",
       "    <tr>\n",
       "      <th>1</th>\n",
       "      <td>2008</td>\n",
       "      <td>1</td>\n",
       "    </tr>\n",
       "    <tr>\n",
       "      <th>2</th>\n",
       "      <td>2008</td>\n",
       "      <td>1</td>\n",
       "    </tr>\n",
       "    <tr>\n",
       "      <th>3</th>\n",
       "      <td>2008</td>\n",
       "      <td>1</td>\n",
       "    </tr>\n",
       "    <tr>\n",
       "      <th>4</th>\n",
       "      <td>2008</td>\n",
       "      <td>1</td>\n",
       "    </tr>\n",
       "    <tr>\n",
       "      <th>...</th>\n",
       "      <td>...</td>\n",
       "      <td>...</td>\n",
       "    </tr>\n",
       "    <tr>\n",
       "      <th>49995</th>\n",
       "      <td>2008</td>\n",
       "      <td>1</td>\n",
       "    </tr>\n",
       "    <tr>\n",
       "      <th>49996</th>\n",
       "      <td>2008</td>\n",
       "      <td>1</td>\n",
       "    </tr>\n",
       "    <tr>\n",
       "      <th>49997</th>\n",
       "      <td>2008</td>\n",
       "      <td>1</td>\n",
       "    </tr>\n",
       "    <tr>\n",
       "      <th>49998</th>\n",
       "      <td>2008</td>\n",
       "      <td>1</td>\n",
       "    </tr>\n",
       "    <tr>\n",
       "      <th>49999</th>\n",
       "      <td>2008</td>\n",
       "      <td>1</td>\n",
       "    </tr>\n",
       "  </tbody>\n",
       "</table>\n",
       "<p>50000 rows × 2 columns</p>\n",
       "</div>"
      ],
      "text/plain": [
       "       Year  Month\n",
       "0      2008      1\n",
       "1      2008      1\n",
       "2      2008      1\n",
       "3      2008      1\n",
       "4      2008      1\n",
       "...     ...    ...\n",
       "49995  2008      1\n",
       "49996  2008      1\n",
       "49997  2008      1\n",
       "49998  2008      1\n",
       "49999  2008      1\n",
       "\n",
       "[50000 rows x 2 columns]"
      ]
     },
     "execution_count": 38,
     "metadata": {},
     "output_type": "execute_result"
    }
   ],
   "source": [
    "\n",
    "df = pd.read_csv('airlines_usa.csv',usecols =['Year','Month'])\n",
    "df\n"
   ]
  },
  {
   "cell_type": "markdown",
   "id": "2ae05ab9",
   "metadata": {},
   "source": [
    "### 37. How to get the nrows, ncolumns, datatype, summary stats of each column of a dataframe? Also get the array and list equivalent."
   ]
  },
  {
   "cell_type": "code",
   "execution_count": 41,
   "id": "6940fbce",
   "metadata": {},
   "outputs": [
    {
     "name": "stdout",
     "output_type": "stream",
     "text": [
      "       Year  Month  Day of Month  Day Of Week  Dep Time      CRS Dep Time  \\\n",
      "0      2008      1             3            4    2003.0              1955   \n",
      "1      2008      1             3            4     754.0               735   \n",
      "2      2008      1             3            4     628.0               620   \n",
      "3      2008      1             3            4     926.0               930   \n",
      "4      2008      1             3            4    1829.0              1755   \n",
      "...     ...    ...           ...          ...       ...               ...   \n",
      "49995  2008      1            18            5    1206.0              1200   \n",
      "49996  2008      1            18            5     807.0               810   \n",
      "49997  2008      1            18            5    1834.0              1815   \n",
      "49998  2008      1            18            5     725.0               725   \n",
      "49999  2008      1            18            5    1507.0              1500   \n",
      "\n",
      "       Arr Time       CRSArrTime  Air Time Origin Dest  Distance  \n",
      "0        2211.0             2225     116.0    IAD  TPA       810  \n",
      "1        1002.0             1000     113.0    IAD  TPA       810  \n",
      "2         804.0              750      76.0    IND  BWI       515  \n",
      "3        1054.0             1100      78.0    IND  BWI       515  \n",
      "4        1959.0             1925      77.0    IND  BWI       515  \n",
      "...         ...              ...       ...    ...  ...       ...  \n",
      "49995    1713.0             1705     172.0    LAX  HOU      1390  \n",
      "49996    1306.0             1315     170.0    LAX  HOU      1390  \n",
      "49997    1933.0             1920      45.0    LAX  LAS       236  \n",
      "49998     821.0              825      42.0    LAX  LAS       236  \n",
      "49999    1610.0             1605      48.0    LAX  LAS       236  \n",
      "\n",
      "[50000 rows x 12 columns]\n",
      "(50000, 12)\n",
      "Year                  int64\n",
      "Month                 int64\n",
      "Day of Month          int64\n",
      "Day Of Week           int64\n",
      "Dep Time            float64\n",
      "    CRS Dep Time      int64\n",
      "Arr Time            float64\n",
      "     CRSArrTime       int64\n",
      "Air Time            float64\n",
      "Origin               object\n",
      "Dest                 object\n",
      "Distance              int64\n",
      "dtype: object\n",
      "int64      7\n",
      "float64    3\n",
      "object     2\n",
      "dtype: int64\n"
     ]
    }
   ],
   "source": [
    "df = pd.read_csv('airlines_usa.csv')\n",
    "print(df)\n",
    "\n",
    "print(df.shape)\n",
    "print(df.dtypes)\n",
    "\n",
    "\n",
    "print(df.dtypes.value_counts())\n",
    "\n",
    "df_stats = df.describe()\n",
    "\n",
    "df_arr = df.values\n",
    "\n",
    "df_list = df.values.tolist()"
   ]
  },
  {
   "cell_type": "markdown",
   "id": "97e0ef67",
   "metadata": {},
   "source": [
    "### 39. How to rename a specific columns in a dataframe?"
   ]
  },
  {
   "cell_type": "code",
   "execution_count": 46,
   "id": "02b37ad7",
   "metadata": {},
   "outputs": [
    {
     "name": "stdout",
     "output_type": "stream",
     "text": [
      "Index(['Year', 'Month', 'Day of Month', 'Day Of Week', 'Dep Time',\n",
      "       '    CRS Dep Time', 'Arr Time', '     CRSArrTime', 'Air Time', 'Origin',\n",
      "       'Dest', 'Distance'],\n",
      "      dtype='object')\n",
      "Index(['Yea', 'Month', 'Day of Month', 'Day Of Week', 'Dep Time',\n",
      "       '    CRS Dep Time', 'Arr Time', '     CRSArrTime', 'Air Time', 'Origin',\n",
      "       'Dest', 'Distance'],\n",
      "      dtype='object')\n"
     ]
    }
   ],
   "source": [
    "df = pd.read_csv('airlines_usa.csv')\n",
    "print(df.columns)\n",
    "\n",
    "df = df.rename(columns = {'Year': 'Yea'})\n",
    "df.columns = df.columns.map(lambda x: x.replace('.','_'))\n",
    "print(df.columns)"
   ]
  },
  {
   "cell_type": "markdown",
   "id": "92d4e6f4",
   "metadata": {},
   "source": [
    "### 40. How to check if a dataframe has any missing values?"
   ]
  },
  {
   "cell_type": "code",
   "execution_count": 48,
   "id": "d17f3e46",
   "metadata": {},
   "outputs": [
    {
     "data": {
      "text/plain": [
       "True"
      ]
     },
     "execution_count": 48,
     "metadata": {},
     "output_type": "execute_result"
    }
   ],
   "source": [
    "df = pd.read_csv('airlines_usa.csv')\n",
    "\n",
    "\n",
    "df.isnull().values.any()"
   ]
  },
  {
   "cell_type": "markdown",
   "id": "8a1ad3b4",
   "metadata": {},
   "source": [
    "### 41. How to count the number of missing values in each column?"
   ]
  },
  {
   "cell_type": "code",
   "execution_count": 50,
   "id": "01551e1e",
   "metadata": {},
   "outputs": [
    {
     "data": {
      "text/plain": [
       "6"
      ]
     },
     "execution_count": 50,
     "metadata": {},
     "output_type": "execute_result"
    }
   ],
   "source": [
    "df = pd.read_csv('airlines_usa.csv')\n",
    "\n",
    "n_missings_each_col = df.apply(lambda x: x.isnull().sum())\n",
    "n_missings_each_col.argmax()"
   ]
  },
  {
   "cell_type": "markdown",
   "id": "d414e4a2",
   "metadata": {},
   "source": [
    "### 42. How to replace missing values of multiple numeric columns with the mean?"
   ]
  },
  {
   "cell_type": "code",
   "execution_count": 52,
   "id": "4b87a07a",
   "metadata": {},
   "outputs": [
    {
     "name": "stdout",
     "output_type": "stream",
     "text": [
      "   Dep Time\n",
      "0    2003.0\n",
      "1     754.0\n",
      "2     628.0\n",
      "3     926.0\n",
      "4    1829.0\n"
     ]
    }
   ],
   "source": [
    "df = pd.read_csv('airlines_usa.csv')\n",
    "\n",
    "df_out = df[['Dep Time' ]] = df[['Dep Time']].apply(lambda x: x.fillna(x.mean()))\n",
    "print(df_out.head())"
   ]
  },
  {
   "cell_type": "markdown",
   "id": "91f2437c",
   "metadata": {},
   "source": [
    "### 44. How to select a specific column from a dataframe as a dataframe instead of a series?"
   ]
  },
  {
   "cell_type": "code",
   "execution_count": 55,
   "id": "cb1d46f8",
   "metadata": {},
   "outputs": [
    {
     "data": {
      "text/plain": [
       "pandas.core.series.Series"
      ]
     },
     "execution_count": 55,
     "metadata": {},
     "output_type": "execute_result"
    }
   ],
   "source": [
    "df = pd.read_csv('airlines_usa.csv')\n",
    "\n",
    "df = pd.DataFrame(np.arange(20).reshape(-1, 5), columns=list('abcde'))\n",
    "\n",
    "type(df[['a']])\n",
    "type(df.loc[:, ['a']])\n",
    "type(df.iloc[:, [0]])\n",
    "\n",
    "type(df.a)\n",
    "type(df['a'])\n",
    "type(df.loc[:, 'a'])\n",
    "type(df.iloc[:, 1])"
   ]
  },
  {
   "cell_type": "markdown",
   "id": "c163bfcc",
   "metadata": {},
   "source": [
    "### 46. How to set the number of rows and columns displayed in the output?"
   ]
  },
  {
   "cell_type": "code",
   "execution_count": 58,
   "id": "fc97d3c7",
   "metadata": {},
   "outputs": [
    {
     "data": {
      "text/html": [
       "<div>\n",
       "<style scoped>\n",
       "    .dataframe tbody tr th:only-of-type {\n",
       "        vertical-align: middle;\n",
       "    }\n",
       "\n",
       "    .dataframe tbody tr th {\n",
       "        vertical-align: top;\n",
       "    }\n",
       "\n",
       "    .dataframe thead th {\n",
       "        text-align: right;\n",
       "    }\n",
       "</style>\n",
       "<table border=\"1\" class=\"dataframe\">\n",
       "  <thead>\n",
       "    <tr style=\"text-align: right;\">\n",
       "      <th></th>\n",
       "      <th>Year</th>\n",
       "      <th>Month</th>\n",
       "      <th>Day of Month</th>\n",
       "      <th>Day Of Week</th>\n",
       "      <th>Dep Time</th>\n",
       "      <th>...</th>\n",
       "      <th>CRSArrTime</th>\n",
       "      <th>Air Time</th>\n",
       "      <th>Origin</th>\n",
       "      <th>Dest</th>\n",
       "      <th>Distance</th>\n",
       "    </tr>\n",
       "  </thead>\n",
       "  <tbody>\n",
       "    <tr>\n",
       "      <th>0</th>\n",
       "      <td>2008</td>\n",
       "      <td>1</td>\n",
       "      <td>3</td>\n",
       "      <td>4</td>\n",
       "      <td>2003.0</td>\n",
       "      <td>...</td>\n",
       "      <td>2225</td>\n",
       "      <td>116.0</td>\n",
       "      <td>IAD</td>\n",
       "      <td>TPA</td>\n",
       "      <td>810</td>\n",
       "    </tr>\n",
       "    <tr>\n",
       "      <th>1</th>\n",
       "      <td>2008</td>\n",
       "      <td>1</td>\n",
       "      <td>3</td>\n",
       "      <td>4</td>\n",
       "      <td>754.0</td>\n",
       "      <td>...</td>\n",
       "      <td>1000</td>\n",
       "      <td>113.0</td>\n",
       "      <td>IAD</td>\n",
       "      <td>TPA</td>\n",
       "      <td>810</td>\n",
       "    </tr>\n",
       "    <tr>\n",
       "      <th>2</th>\n",
       "      <td>2008</td>\n",
       "      <td>1</td>\n",
       "      <td>3</td>\n",
       "      <td>4</td>\n",
       "      <td>628.0</td>\n",
       "      <td>...</td>\n",
       "      <td>750</td>\n",
       "      <td>76.0</td>\n",
       "      <td>IND</td>\n",
       "      <td>BWI</td>\n",
       "      <td>515</td>\n",
       "    </tr>\n",
       "    <tr>\n",
       "      <th>3</th>\n",
       "      <td>2008</td>\n",
       "      <td>1</td>\n",
       "      <td>3</td>\n",
       "      <td>4</td>\n",
       "      <td>926.0</td>\n",
       "      <td>...</td>\n",
       "      <td>1100</td>\n",
       "      <td>78.0</td>\n",
       "      <td>IND</td>\n",
       "      <td>BWI</td>\n",
       "      <td>515</td>\n",
       "    </tr>\n",
       "    <tr>\n",
       "      <th>4</th>\n",
       "      <td>2008</td>\n",
       "      <td>1</td>\n",
       "      <td>3</td>\n",
       "      <td>4</td>\n",
       "      <td>1829.0</td>\n",
       "      <td>...</td>\n",
       "      <td>1925</td>\n",
       "      <td>77.0</td>\n",
       "      <td>IND</td>\n",
       "      <td>BWI</td>\n",
       "      <td>515</td>\n",
       "    </tr>\n",
       "    <tr>\n",
       "      <th>...</th>\n",
       "      <td>...</td>\n",
       "      <td>...</td>\n",
       "      <td>...</td>\n",
       "      <td>...</td>\n",
       "      <td>...</td>\n",
       "      <td>...</td>\n",
       "      <td>...</td>\n",
       "      <td>...</td>\n",
       "      <td>...</td>\n",
       "      <td>...</td>\n",
       "      <td>...</td>\n",
       "    </tr>\n",
       "    <tr>\n",
       "      <th>49995</th>\n",
       "      <td>2008</td>\n",
       "      <td>1</td>\n",
       "      <td>18</td>\n",
       "      <td>5</td>\n",
       "      <td>1206.0</td>\n",
       "      <td>...</td>\n",
       "      <td>1705</td>\n",
       "      <td>172.0</td>\n",
       "      <td>LAX</td>\n",
       "      <td>HOU</td>\n",
       "      <td>1390</td>\n",
       "    </tr>\n",
       "    <tr>\n",
       "      <th>49996</th>\n",
       "      <td>2008</td>\n",
       "      <td>1</td>\n",
       "      <td>18</td>\n",
       "      <td>5</td>\n",
       "      <td>807.0</td>\n",
       "      <td>...</td>\n",
       "      <td>1315</td>\n",
       "      <td>170.0</td>\n",
       "      <td>LAX</td>\n",
       "      <td>HOU</td>\n",
       "      <td>1390</td>\n",
       "    </tr>\n",
       "    <tr>\n",
       "      <th>49997</th>\n",
       "      <td>2008</td>\n",
       "      <td>1</td>\n",
       "      <td>18</td>\n",
       "      <td>5</td>\n",
       "      <td>1834.0</td>\n",
       "      <td>...</td>\n",
       "      <td>1920</td>\n",
       "      <td>45.0</td>\n",
       "      <td>LAX</td>\n",
       "      <td>LAS</td>\n",
       "      <td>236</td>\n",
       "    </tr>\n",
       "    <tr>\n",
       "      <th>49998</th>\n",
       "      <td>2008</td>\n",
       "      <td>1</td>\n",
       "      <td>18</td>\n",
       "      <td>5</td>\n",
       "      <td>725.0</td>\n",
       "      <td>...</td>\n",
       "      <td>825</td>\n",
       "      <td>42.0</td>\n",
       "      <td>LAX</td>\n",
       "      <td>LAS</td>\n",
       "      <td>236</td>\n",
       "    </tr>\n",
       "    <tr>\n",
       "      <th>49999</th>\n",
       "      <td>2008</td>\n",
       "      <td>1</td>\n",
       "      <td>18</td>\n",
       "      <td>5</td>\n",
       "      <td>1507.0</td>\n",
       "      <td>...</td>\n",
       "      <td>1605</td>\n",
       "      <td>48.0</td>\n",
       "      <td>LAX</td>\n",
       "      <td>LAS</td>\n",
       "      <td>236</td>\n",
       "    </tr>\n",
       "  </tbody>\n",
       "</table>\n",
       "<p>50000 rows × 12 columns</p>\n",
       "</div>"
      ],
      "text/plain": [
       "       Year  Month  Day of Month  Day Of Week  Dep Time  ...       CRSArrTime  \\\n",
       "0      2008      1             3            4    2003.0  ...             2225   \n",
       "1      2008      1             3            4     754.0  ...             1000   \n",
       "2      2008      1             3            4     628.0  ...              750   \n",
       "3      2008      1             3            4     926.0  ...             1100   \n",
       "4      2008      1             3            4    1829.0  ...             1925   \n",
       "...     ...    ...           ...          ...       ...  ...              ...   \n",
       "49995  2008      1            18            5    1206.0  ...             1705   \n",
       "49996  2008      1            18            5     807.0  ...             1315   \n",
       "49997  2008      1            18            5    1834.0  ...             1920   \n",
       "49998  2008      1            18            5     725.0  ...              825   \n",
       "49999  2008      1            18            5    1507.0  ...             1605   \n",
       "\n",
       "       Air Time  Origin  Dest Distance  \n",
       "0         116.0     IAD   TPA      810  \n",
       "1         113.0     IAD   TPA      810  \n",
       "2          76.0     IND   BWI      515  \n",
       "3          78.0     IND   BWI      515  \n",
       "4          77.0     IND   BWI      515  \n",
       "...         ...     ...   ...      ...  \n",
       "49995     172.0     LAX   HOU     1390  \n",
       "49996     170.0     LAX   HOU     1390  \n",
       "49997      45.0     LAX   LAS      236  \n",
       "49998      42.0     LAX   LAS      236  \n",
       "49999      48.0     LAX   LAS      236  \n",
       "\n",
       "[50000 rows x 12 columns]"
      ]
     },
     "execution_count": 58,
     "metadata": {},
     "output_type": "execute_result"
    }
   ],
   "source": [
    "df = pd.read_csv('airlines_usa.csv')\n",
    "\n",
    "pd.set_option('display.max_columns', 10)\n",
    "pd.set_option('display.max_rows', 10)\n",
    "\n",
    "df"
   ]
  },
  {
   "cell_type": "markdown",
   "id": "9963fe9a",
   "metadata": {},
   "source": [
    "### 48. How to format all the values in a dataframe as percentages?"
   ]
  },
  {
   "cell_type": "code",
   "execution_count": 68,
   "id": "0760139c",
   "metadata": {},
   "outputs": [
    {
     "name": "stdout",
     "output_type": "stream",
     "text": [
      "     random\n",
      "0  0.704765\n",
      "1  0.308950\n",
      "2  0.191287\n",
      "3  0.399938\n"
     ]
    },
    {
     "data": {
      "text/html": [
       "<style type=\"text/css\">\n",
       "</style>\n",
       "<table id=\"T_61349\">\n",
       "  <thead>\n",
       "    <tr>\n",
       "      <th class=\"blank level0\" >&nbsp;</th>\n",
       "      <th id=\"T_61349_level0_col0\" class=\"col_heading level0 col0\" >random</th>\n",
       "    </tr>\n",
       "  </thead>\n",
       "  <tbody>\n",
       "    <tr>\n",
       "      <th id=\"T_61349_level0_row0\" class=\"row_heading level0 row0\" >0</th>\n",
       "      <td id=\"T_61349_row0_col0\" class=\"data row0 col0\" >70.48%</td>\n",
       "    </tr>\n",
       "    <tr>\n",
       "      <th id=\"T_61349_level0_row1\" class=\"row_heading level0 row1\" >1</th>\n",
       "      <td id=\"T_61349_row1_col0\" class=\"data row1 col0\" >30.90%</td>\n",
       "    </tr>\n",
       "    <tr>\n",
       "      <th id=\"T_61349_level0_row2\" class=\"row_heading level0 row2\" >2</th>\n",
       "      <td id=\"T_61349_row2_col0\" class=\"data row2 col0\" >19.13%</td>\n",
       "    </tr>\n",
       "    <tr>\n",
       "      <th id=\"T_61349_level0_row3\" class=\"row_heading level0 row3\" >3</th>\n",
       "      <td id=\"T_61349_row3_col0\" class=\"data row3 col0\" >39.99%</td>\n",
       "    </tr>\n",
       "  </tbody>\n",
       "</table>\n"
      ],
      "text/plain": [
       "<pandas.io.formats.style.Styler at 0x1dc5c5d6820>"
      ]
     },
     "execution_count": 68,
     "metadata": {},
     "output_type": "execute_result"
    }
   ],
   "source": [
    "df = pd.DataFrame(np.random.random(4), columns=['random'])\n",
    "print(df)\n",
    "\n",
    "out = df.style.format({\n",
    "    'random': '{0:.2%}'.format,\n",
    "})\n",
    "\n",
    "out"
   ]
  },
  {
   "cell_type": "markdown",
   "id": "af3be168",
   "metadata": {},
   "source": [
    "### 52. How to find the position of the nth largest value greater than a given value?"
   ]
  },
  {
   "cell_type": "code",
   "execution_count": 73,
   "id": "ec5ac10f",
   "metadata": {},
   "outputs": [
    {
     "name": "stdout",
     "output_type": "stream",
     "text": [
      "0     167\n",
      "1     145\n",
      "2     136\n",
      "3     135\n",
      "4     148\n",
      "     ... \n",
      "10    283\n",
      "11    119\n",
      "12     39\n",
      "13    135\n",
      "14     41\n",
      "Length: 15, dtype: int32\n",
      "ser:  [167, 145, 136, 135, 148, 152, 274, 264, 166, 126, 283, 119, 39, 135, 41] mean:  155\n"
     ]
    },
    {
     "ename": "ValueError",
     "evalue": "Length of values (1) does not match length of index (15)",
     "output_type": "error",
     "traceback": [
      "\u001b[1;31m---------------------------------------------------------------------------\u001b[0m",
      "\u001b[1;31mValueError\u001b[0m                                Traceback (most recent call last)",
      "Input \u001b[1;32mIn [73]\u001b[0m, in \u001b[0;36m<cell line: 5>\u001b[1;34m()\u001b[0m\n\u001b[0;32m      2\u001b[0m \u001b[38;5;28mprint\u001b[39m(ser)\n\u001b[0;32m      4\u001b[0m \u001b[38;5;28mprint\u001b[39m(\u001b[38;5;124m'\u001b[39m\u001b[38;5;124mser: \u001b[39m\u001b[38;5;124m'\u001b[39m, ser\u001b[38;5;241m.\u001b[39mtolist(), \u001b[38;5;124m'\u001b[39m\u001b[38;5;124mmean: \u001b[39m\u001b[38;5;124m'\u001b[39m, \u001b[38;5;28mround\u001b[39m(ser\u001b[38;5;241m.\u001b[39mmean()))\n\u001b[1;32m----> 5\u001b[0m \u001b[43mnp\u001b[49m\u001b[38;5;241;43m.\u001b[39;49m\u001b[43margwhere\u001b[49m\u001b[43m(\u001b[49m\u001b[43mser\u001b[49m\u001b[43m \u001b[49m\u001b[38;5;241;43m>\u001b[39;49m\u001b[43m \u001b[49m\u001b[43mser\u001b[49m\u001b[38;5;241;43m.\u001b[39;49m\u001b[43mmean\u001b[49m\u001b[43m(\u001b[49m\u001b[43m)\u001b[49m\u001b[43m)\u001b[49m[\u001b[38;5;241m1\u001b[39m]\n",
      "File \u001b[1;32m<__array_function__ internals>:180\u001b[0m, in \u001b[0;36margwhere\u001b[1;34m(*args, **kwargs)\u001b[0m\n",
      "File \u001b[1;32m~\\AppData\\Local\\Programs\\Python\\Python39\\lib\\site-packages\\numpy\\core\\numeric.py:624\u001b[0m, in \u001b[0;36margwhere\u001b[1;34m(a)\u001b[0m\n\u001b[0;32m    622\u001b[0m     \u001b[38;5;66;03m# then remove the added dimension\u001b[39;00m\n\u001b[0;32m    623\u001b[0m     \u001b[38;5;28;01mreturn\u001b[39;00m argwhere(a)[:,:\u001b[38;5;241m0\u001b[39m]\n\u001b[1;32m--> 624\u001b[0m \u001b[38;5;28;01mreturn\u001b[39;00m transpose(\u001b[43mnonzero\u001b[49m\u001b[43m(\u001b[49m\u001b[43ma\u001b[49m\u001b[43m)\u001b[49m)\n",
      "File \u001b[1;32m<__array_function__ internals>:180\u001b[0m, in \u001b[0;36mnonzero\u001b[1;34m(*args, **kwargs)\u001b[0m\n",
      "File \u001b[1;32m~\\AppData\\Local\\Programs\\Python\\Python39\\lib\\site-packages\\numpy\\core\\fromnumeric.py:1958\u001b[0m, in \u001b[0;36mnonzero\u001b[1;34m(a)\u001b[0m\n\u001b[0;32m   1866\u001b[0m \u001b[38;5;129m@array_function_dispatch\u001b[39m(_nonzero_dispatcher)\n\u001b[0;32m   1867\u001b[0m \u001b[38;5;28;01mdef\u001b[39;00m \u001b[38;5;21mnonzero\u001b[39m(a):\n\u001b[0;32m   1868\u001b[0m     \u001b[38;5;124;03m\"\"\"\u001b[39;00m\n\u001b[0;32m   1869\u001b[0m \u001b[38;5;124;03m    Return the indices of the elements that are non-zero.\u001b[39;00m\n\u001b[0;32m   1870\u001b[0m \n\u001b[1;32m   (...)\u001b[0m\n\u001b[0;32m   1956\u001b[0m \n\u001b[0;32m   1957\u001b[0m \u001b[38;5;124;03m    \"\"\"\u001b[39;00m\n\u001b[1;32m-> 1958\u001b[0m     \u001b[38;5;28;01mreturn\u001b[39;00m \u001b[43m_wrapfunc\u001b[49m\u001b[43m(\u001b[49m\u001b[43ma\u001b[49m\u001b[43m,\u001b[49m\u001b[43m \u001b[49m\u001b[38;5;124;43m'\u001b[39;49m\u001b[38;5;124;43mnonzero\u001b[39;49m\u001b[38;5;124;43m'\u001b[39;49m\u001b[43m)\u001b[49m\n",
      "File \u001b[1;32m~\\AppData\\Local\\Programs\\Python\\Python39\\lib\\site-packages\\numpy\\core\\fromnumeric.py:54\u001b[0m, in \u001b[0;36m_wrapfunc\u001b[1;34m(obj, method, *args, **kwds)\u001b[0m\n\u001b[0;32m     52\u001b[0m bound \u001b[38;5;241m=\u001b[39m \u001b[38;5;28mgetattr\u001b[39m(obj, method, \u001b[38;5;28;01mNone\u001b[39;00m)\n\u001b[0;32m     53\u001b[0m \u001b[38;5;28;01mif\u001b[39;00m bound \u001b[38;5;129;01mis\u001b[39;00m \u001b[38;5;28;01mNone\u001b[39;00m:\n\u001b[1;32m---> 54\u001b[0m     \u001b[38;5;28;01mreturn\u001b[39;00m _wrapit(obj, method, \u001b[38;5;241m*\u001b[39margs, \u001b[38;5;241m*\u001b[39m\u001b[38;5;241m*\u001b[39mkwds)\n\u001b[0;32m     56\u001b[0m \u001b[38;5;28;01mtry\u001b[39;00m:\n\u001b[0;32m     57\u001b[0m     \u001b[38;5;28;01mreturn\u001b[39;00m bound(\u001b[38;5;241m*\u001b[39margs, \u001b[38;5;241m*\u001b[39m\u001b[38;5;241m*\u001b[39mkwds)\n",
      "File \u001b[1;32m~\\AppData\\Local\\Programs\\Python\\Python39\\lib\\site-packages\\numpy\\core\\fromnumeric.py:47\u001b[0m, in \u001b[0;36m_wrapit\u001b[1;34m(obj, method, *args, **kwds)\u001b[0m\n\u001b[0;32m     45\u001b[0m     \u001b[38;5;28;01mif\u001b[39;00m \u001b[38;5;129;01mnot\u001b[39;00m \u001b[38;5;28misinstance\u001b[39m(result, mu\u001b[38;5;241m.\u001b[39mndarray):\n\u001b[0;32m     46\u001b[0m         result \u001b[38;5;241m=\u001b[39m asarray(result)\n\u001b[1;32m---> 47\u001b[0m     result \u001b[38;5;241m=\u001b[39m \u001b[43mwrap\u001b[49m\u001b[43m(\u001b[49m\u001b[43mresult\u001b[49m\u001b[43m)\u001b[49m\n\u001b[0;32m     48\u001b[0m \u001b[38;5;28;01mreturn\u001b[39;00m result\n",
      "File \u001b[1;32m~\\AppData\\Local\\Programs\\Python\\Python39\\lib\\site-packages\\pandas\\core\\generic.py:2095\u001b[0m, in \u001b[0;36mNDFrame.__array_wrap__\u001b[1;34m(self, result, context)\u001b[0m\n\u001b[0;32m   2093\u001b[0m     \u001b[38;5;28;01mreturn\u001b[39;00m res\n\u001b[0;32m   2094\u001b[0m d \u001b[38;5;241m=\u001b[39m \u001b[38;5;28mself\u001b[39m\u001b[38;5;241m.\u001b[39m_construct_axes_dict(\u001b[38;5;28mself\u001b[39m\u001b[38;5;241m.\u001b[39m_AXIS_ORDERS, copy\u001b[38;5;241m=\u001b[39m\u001b[38;5;28;01mFalse\u001b[39;00m)\n\u001b[1;32m-> 2095\u001b[0m \u001b[38;5;28;01mreturn\u001b[39;00m \u001b[38;5;28mself\u001b[39m\u001b[38;5;241m.\u001b[39m_constructor(res, \u001b[38;5;241m*\u001b[39m\u001b[38;5;241m*\u001b[39md)\u001b[38;5;241m.\u001b[39m__finalize__(\u001b[38;5;28mself\u001b[39m, method\u001b[38;5;241m=\u001b[39m\u001b[38;5;124m\"\u001b[39m\u001b[38;5;124m__array_wrap__\u001b[39m\u001b[38;5;124m\"\u001b[39m)\n",
      "File \u001b[1;32m~\\AppData\\Local\\Programs\\Python\\Python39\\lib\\site-packages\\pandas\\core\\series.py:442\u001b[0m, in \u001b[0;36mSeries.__init__\u001b[1;34m(self, data, index, dtype, name, copy, fastpath)\u001b[0m\n\u001b[0;32m    440\u001b[0m     index \u001b[38;5;241m=\u001b[39m default_index(\u001b[38;5;28mlen\u001b[39m(data))\n\u001b[0;32m    441\u001b[0m \u001b[38;5;28;01melif\u001b[39;00m is_list_like(data):\n\u001b[1;32m--> 442\u001b[0m     \u001b[43mcom\u001b[49m\u001b[38;5;241;43m.\u001b[39;49m\u001b[43mrequire_length_match\u001b[49m\u001b[43m(\u001b[49m\u001b[43mdata\u001b[49m\u001b[43m,\u001b[49m\u001b[43m \u001b[49m\u001b[43mindex\u001b[49m\u001b[43m)\u001b[49m\n\u001b[0;32m    444\u001b[0m \u001b[38;5;66;03m# create/copy the manager\u001b[39;00m\n\u001b[0;32m    445\u001b[0m \u001b[38;5;28;01mif\u001b[39;00m \u001b[38;5;28misinstance\u001b[39m(data, (SingleBlockManager, SingleArrayManager)):\n",
      "File \u001b[1;32m~\\AppData\\Local\\Programs\\Python\\Python39\\lib\\site-packages\\pandas\\core\\common.py:557\u001b[0m, in \u001b[0;36mrequire_length_match\u001b[1;34m(data, index)\u001b[0m\n\u001b[0;32m    553\u001b[0m \u001b[38;5;124;03m\"\"\"\u001b[39;00m\n\u001b[0;32m    554\u001b[0m \u001b[38;5;124;03mCheck the length of data matches the length of the index.\u001b[39;00m\n\u001b[0;32m    555\u001b[0m \u001b[38;5;124;03m\"\"\"\u001b[39;00m\n\u001b[0;32m    556\u001b[0m \u001b[38;5;28;01mif\u001b[39;00m \u001b[38;5;28mlen\u001b[39m(data) \u001b[38;5;241m!=\u001b[39m \u001b[38;5;28mlen\u001b[39m(index):\n\u001b[1;32m--> 557\u001b[0m     \u001b[38;5;28;01mraise\u001b[39;00m \u001b[38;5;167;01mValueError\u001b[39;00m(\n\u001b[0;32m    558\u001b[0m         \u001b[38;5;124m\"\u001b[39m\u001b[38;5;124mLength of values \u001b[39m\u001b[38;5;124m\"\u001b[39m\n\u001b[0;32m    559\u001b[0m         \u001b[38;5;124mf\u001b[39m\u001b[38;5;124m\"\u001b[39m\u001b[38;5;124m(\u001b[39m\u001b[38;5;132;01m{\u001b[39;00m\u001b[38;5;28mlen\u001b[39m(data)\u001b[38;5;132;01m}\u001b[39;00m\u001b[38;5;124m) \u001b[39m\u001b[38;5;124m\"\u001b[39m\n\u001b[0;32m    560\u001b[0m         \u001b[38;5;124m\"\u001b[39m\u001b[38;5;124mdoes not match length of index \u001b[39m\u001b[38;5;124m\"\u001b[39m\n\u001b[0;32m    561\u001b[0m         \u001b[38;5;124mf\u001b[39m\u001b[38;5;124m\"\u001b[39m\u001b[38;5;124m(\u001b[39m\u001b[38;5;132;01m{\u001b[39;00m\u001b[38;5;28mlen\u001b[39m(index)\u001b[38;5;132;01m}\u001b[39;00m\u001b[38;5;124m)\u001b[39m\u001b[38;5;124m\"\u001b[39m\n\u001b[0;32m    562\u001b[0m     )\n",
      "\u001b[1;31mValueError\u001b[0m: Length of values (1) does not match length of index (15)"
     ]
    }
   ],
   "source": [
    "ser = pd.Series(np.random.randint(1, 300, 15))\n",
    "print(ser)\n",
    "\n",
    "print('ser: ', ser.tolist(), 'mean: ', round(ser.mean()))\n",
    "np.argwhere(ser > ser.mean())[1]"
   ]
  },
  {
   "cell_type": "markdown",
   "id": "4944eb79",
   "metadata": {},
   "source": [
    "### 56. How to swap two rows of a dataframe?"
   ]
  },
  {
   "cell_type": "code",
   "execution_count": 75,
   "id": "0b5cff6c",
   "metadata": {},
   "outputs": [
    {
     "name": "stdout",
     "output_type": "stream",
     "text": [
      "    0   1   2   3   4\n",
      "0   0   1   2   3   4\n",
      "1  10  11  12  13  14\n",
      "2   5   6   7   8   9\n",
      "3  15  16  17  18  19\n",
      "4  20  21  22  23  24\n"
     ]
    }
   ],
   "source": [
    "df = pd.DataFrame(np.arange(25).reshape(5, -1))\n",
    "\n",
    "\n",
    "def swap_rows(df, i1, i2):\n",
    "    a, b = df.iloc[i1, :].copy(), df.iloc[i2, :].copy()\n",
    "    df.iloc[i1, :], df.iloc[i2, :] = b, a\n",
    "    return df\n",
    "\n",
    "print(swap_rows(df, 1, 2))"
   ]
  },
  {
   "cell_type": "markdown",
   "id": "5db658ae",
   "metadata": {},
   "source": [
    "### 57. How to reverse the rows of a dataframe?"
   ]
  },
  {
   "cell_type": "code",
   "execution_count": 77,
   "id": "f52096cc",
   "metadata": {},
   "outputs": [
    {
     "data": {
      "text/html": [
       "<div>\n",
       "<style scoped>\n",
       "    .dataframe tbody tr th:only-of-type {\n",
       "        vertical-align: middle;\n",
       "    }\n",
       "\n",
       "    .dataframe tbody tr th {\n",
       "        vertical-align: top;\n",
       "    }\n",
       "\n",
       "    .dataframe thead th {\n",
       "        text-align: right;\n",
       "    }\n",
       "</style>\n",
       "<table border=\"1\" class=\"dataframe\">\n",
       "  <thead>\n",
       "    <tr style=\"text-align: right;\">\n",
       "      <th></th>\n",
       "      <th>0</th>\n",
       "      <th>1</th>\n",
       "      <th>2</th>\n",
       "      <th>3</th>\n",
       "      <th>4</th>\n",
       "    </tr>\n",
       "  </thead>\n",
       "  <tbody>\n",
       "    <tr>\n",
       "      <th>4</th>\n",
       "      <td>20</td>\n",
       "      <td>21</td>\n",
       "      <td>22</td>\n",
       "      <td>23</td>\n",
       "      <td>24</td>\n",
       "    </tr>\n",
       "    <tr>\n",
       "      <th>3</th>\n",
       "      <td>15</td>\n",
       "      <td>16</td>\n",
       "      <td>17</td>\n",
       "      <td>18</td>\n",
       "      <td>19</td>\n",
       "    </tr>\n",
       "    <tr>\n",
       "      <th>2</th>\n",
       "      <td>10</td>\n",
       "      <td>11</td>\n",
       "      <td>12</td>\n",
       "      <td>13</td>\n",
       "      <td>14</td>\n",
       "    </tr>\n",
       "    <tr>\n",
       "      <th>1</th>\n",
       "      <td>5</td>\n",
       "      <td>6</td>\n",
       "      <td>7</td>\n",
       "      <td>8</td>\n",
       "      <td>9</td>\n",
       "    </tr>\n",
       "    <tr>\n",
       "      <th>0</th>\n",
       "      <td>0</td>\n",
       "      <td>1</td>\n",
       "      <td>2</td>\n",
       "      <td>3</td>\n",
       "      <td>4</td>\n",
       "    </tr>\n",
       "  </tbody>\n",
       "</table>\n",
       "</div>"
      ],
      "text/plain": [
       "    0   1   2   3   4\n",
       "4  20  21  22  23  24\n",
       "3  15  16  17  18  19\n",
       "2  10  11  12  13  14\n",
       "1   5   6   7   8   9\n",
       "0   0   1   2   3   4"
      ]
     },
     "execution_count": 77,
     "metadata": {},
     "output_type": "execute_result"
    }
   ],
   "source": [
    "df = pd.DataFrame(np.arange(25).reshape(5, -1))\n",
    "\n",
    "df.iloc[::-1, :]"
   ]
  },
  {
   "cell_type": "markdown",
   "id": "579098c2",
   "metadata": {},
   "source": [
    "### 59. Which column contains the highest number of row-wise maximum values?"
   ]
  },
  {
   "cell_type": "code",
   "execution_count": 80,
   "id": "a7d47483",
   "metadata": {},
   "outputs": [
    {
     "name": "stdout",
     "output_type": "stream",
     "text": [
      "Column with highest row maxes:  1\n"
     ]
    }
   ],
   "source": [
    "df = pd.DataFrame(np.random.randint(1,100, 40).reshape(10, -1))\n",
    "\n",
    "print('Column with highest row maxes: ', df.apply(np.argmax, axis=1).value_counts().index[0])"
   ]
  },
  {
   "cell_type": "markdown",
   "id": "a1a65007",
   "metadata": {},
   "source": [
    "### 61. How to know the maximum possible correlation value of each column against other columns?"
   ]
  },
  {
   "cell_type": "code",
   "execution_count": 82,
   "id": "097ae445",
   "metadata": {},
   "outputs": [
    {
     "name": "stdout",
     "output_type": "stream",
     "text": [
      "Maximum Correlation possible for each column:  [0.78 0.62 0.78 0.49 0.48 0.62 0.55 0.6  0.56 0.6 ]\n"
     ]
    }
   ],
   "source": [
    "df = pd.DataFrame(np.random.randint(1,100, 80).reshape(8, -1), columns=list('pqrstuvwxy'), index=list('abcdefgh'))\n",
    "df\n",
    "\n",
    "abs_corrmat = np.abs(df.corr())\n",
    "max_corr = abs_corrmat.apply(lambda x: sorted(x)[-2])\n",
    "print('Maximum Correlation possible for each column: ', np.round(max_corr.tolist(), 2))"
   ]
  },
  {
   "cell_type": "markdown",
   "id": "322b930d",
   "metadata": {},
   "source": [
    "### 62. How to create a column containing the minimum by maximum of each row?"
   ]
  },
  {
   "cell_type": "code",
   "execution_count": 85,
   "id": "172cf218",
   "metadata": {},
   "outputs": [
    {
     "data": {
      "text/plain": [
       "0    0.265957\n",
       "1    0.021053\n",
       "2    0.163265\n",
       "3    0.020619\n",
       "4    0.041667\n",
       "5    0.015385\n",
       "6    0.022222\n",
       "7    0.204545\n",
       "dtype: float64"
      ]
     },
     "execution_count": 85,
     "metadata": {},
     "output_type": "execute_result"
    }
   ],
   "source": [
    "df = pd.DataFrame(np.random.randint(1,100, 80).reshape(8, -1))\n",
    "\n",
    "min_by_max = df.apply(lambda x: np.min(x)/np.max(x), axis=1)\n",
    "\n",
    "min_by_max"
   ]
  },
  {
   "cell_type": "markdown",
   "id": "eea04adc",
   "metadata": {},
   "source": [
    "### 64. How to normalize all columns in a dataframe?"
   ]
  },
  {
   "cell_type": "code",
   "execution_count": 87,
   "id": "9bae6e9d",
   "metadata": {},
   "outputs": [
    {
     "name": "stdout",
     "output_type": "stream",
     "text": [
      "Solution Q1\n",
      "       0     1     2     3     4     5     6     7     8     9\n",
      "0 -0.21  1.13  1.55  1.25  0.04 -0.04 -1.33 -1.44 -0.10 -1.22\n",
      "1  1.11 -1.42 -0.66  1.53  1.60  0.31  1.47  0.21 -1.93  1.24\n",
      "2 -0.70 -1.33  0.20 -1.15 -1.26  0.39  0.47  1.03 -0.16  1.05\n",
      "3 -0.89  0.08 -0.85 -0.74 -0.59  1.43  1.33  1.06  0.82 -0.02\n",
      "4  0.04 -0.16  1.47  0.22 -0.11 -1.38 -0.75  0.07 -0.75 -0.73\n",
      "5 -1.18  1.13 -0.88 -1.08 -0.02  0.57 -0.18  0.80  0.29 -0.48\n",
      "6  1.74 -0.19 -0.66 -0.05  1.27  0.28 -0.54 -0.35  1.27 -0.95\n",
      "7  0.09  0.75 -0.17  0.02 -0.93 -1.55 -0.47 -1.39  0.56  1.10\n"
     ]
    }
   ],
   "source": [
    "df = pd.DataFrame(np.random.randint(1,100, 80).reshape(8, -1))\n",
    "\n",
    "out1 = df.apply(lambda x: ((x - x.mean())/x.std()).round(2))\n",
    "print('Solution Q1\\n',out1)"
   ]
  },
  {
   "cell_type": "markdown",
   "id": "08a429c9",
   "metadata": {},
   "source": [
    "### 72. How to get the positions where values of two columns match?"
   ]
  },
  {
   "cell_type": "code",
   "execution_count": 90,
   "id": "04daf838",
   "metadata": {},
   "outputs": [
    {
     "name": "stdout",
     "output_type": "stream",
     "text": [
      "   fruit1  fruit2\n",
      "0  banana  banana\n",
      "1  banana  banana\n",
      "2  orange  banana\n",
      "3   apple  orange\n",
      "4  orange   apple\n",
      "5   apple  banana\n",
      "6  orange   apple\n",
      "7   apple  orange\n",
      "8  banana   apple\n",
      "9  orange  banana\n"
     ]
    },
    {
     "data": {
      "text/plain": [
       "(array([0, 1], dtype=int64),)"
      ]
     },
     "execution_count": 90,
     "metadata": {},
     "output_type": "execute_result"
    }
   ],
   "source": [
    "df = pd.DataFrame({'fruit1': np.random.choice(['apple', 'orange', 'banana'], 10),\n",
    "                    'fruit2': np.random.choice(['apple', 'orange', 'banana'], 10)})\n",
    "print(df)\n",
    "np.where(df.fruit1 == df.fruit2)"
   ]
  }
 ],
 "metadata": {
  "kernelspec": {
   "display_name": "Python 3 (ipykernel)",
   "language": "python",
   "name": "python3"
  },
  "language_info": {
   "codemirror_mode": {
    "name": "ipython",
    "version": 3
   },
   "file_extension": ".py",
   "mimetype": "text/x-python",
   "name": "python",
   "nbconvert_exporter": "python",
   "pygments_lexer": "ipython3",
   "version": "3.9.13"
  }
 },
 "nbformat": 4,
 "nbformat_minor": 5
}
